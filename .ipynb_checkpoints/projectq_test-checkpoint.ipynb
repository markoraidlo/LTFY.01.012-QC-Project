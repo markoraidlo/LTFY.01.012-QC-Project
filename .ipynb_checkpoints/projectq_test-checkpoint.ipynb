{
 "cells": [
  {
   "cell_type": "markdown",
   "metadata": {},
   "source": [
    "# ProjectQ test fail\n",
    "Marko Raidlo"
   ]
  },
  {
   "cell_type": "code",
   "execution_count": 1,
   "metadata": {},
   "outputs": [],
   "source": [
    "%matplotlib inline\n",
    "import matplotlib.pyplot as plt\n",
    "import numpy as np\n",
    "plt.rc(\"figure\",figsize=(20,10))"
   ]
  },
  {
   "cell_type": "code",
   "execution_count": 2,
   "metadata": {},
   "outputs": [],
   "source": [
    "import projectq.setups.ibm\n",
    "from projectq.backends import IBMBackend\n",
    "\n",
    "from projectq.ops import H, Measure, CNOT\n",
    "from projectq import MainEngine "
   ]
  },
  {
   "cell_type": "code",
   "execution_count": 3,
   "metadata": {},
   "outputs": [],
   "source": [
    "#engine = MainEngine(IBMBackend(use_hardware=True, \n",
    "#                               num_runs=1024, \n",
    "#                               verbose=False, \n",
    "#                               device='ibmqx4'),\n",
    "#                    engine_list=projectq.setups.ibm.get_engine_list())"
   ]
  },
  {
   "cell_type": "code",
   "execution_count": 4,
   "metadata": {},
   "outputs": [
    {
     "name": "stdout",
     "output_type": "stream",
     "text": [
      "IBM QE token > ········\n"
     ]
    },
    {
     "ename": "DeviceOfflineError",
     "evalue": "Error when configuring engine list: device requested for Backend not connected",
     "output_type": "error",
     "traceback": [
      "\u001b[1;31m------------------------------------------------------------------------\u001b[0m",
      "\u001b[1;31mDeviceOfflineError\u001b[0m                     Traceback (most recent call last)",
      "\u001b[1;32m<ipython-input-4-cfa255ba7b93>\u001b[0m in \u001b[0;36m<module>\u001b[1;34m\u001b[0m\n\u001b[1;32m----> 1\u001b[1;33m \u001b[0meng\u001b[0m \u001b[1;33m=\u001b[0m \u001b[0mMainEngine\u001b[0m\u001b[1;33m(\u001b[0m\u001b[0mengine_list\u001b[0m \u001b[1;33m=\u001b[0m \u001b[0mprojectq\u001b[0m\u001b[1;33m.\u001b[0m\u001b[0msetups\u001b[0m\u001b[1;33m.\u001b[0m\u001b[0mibm\u001b[0m\u001b[1;33m.\u001b[0m\u001b[0mget_engine_list\u001b[0m\u001b[1;33m(\u001b[0m\u001b[1;33m)\u001b[0m\u001b[1;33m)\u001b[0m\u001b[1;33m\u001b[0m\u001b[1;33m\u001b[0m\u001b[0m\n\u001b[0m",
      "\u001b[1;32m~\\Anaconda3\\lib\\site-packages\\projectq\\setups\\ibm.py\u001b[0m in \u001b[0;36mget_engine_list\u001b[1;34m(token, device)\u001b[0m\n\u001b[0;32m     40\u001b[0m     \u001b[0mibm_setup\u001b[0m \u001b[1;33m=\u001b[0m \u001b[1;33m[\u001b[0m\u001b[1;33m]\u001b[0m\u001b[1;33m\u001b[0m\u001b[1;33m\u001b[0m\u001b[0m\n\u001b[0;32m     41\u001b[0m     \u001b[1;32mif\u001b[0m \u001b[0mdevice\u001b[0m \u001b[1;32mnot\u001b[0m \u001b[1;32min\u001b[0m \u001b[0mdevices\u001b[0m\u001b[1;33m:\u001b[0m\u001b[1;33m\u001b[0m\u001b[1;33m\u001b[0m\u001b[0m\n\u001b[1;32m---> 42\u001b[1;33m         raise DeviceOfflineError('Error when configuring engine list: device '\n\u001b[0m\u001b[0;32m     43\u001b[0m                                  'requested for Backend not connected')\n\u001b[0;32m     44\u001b[0m     \u001b[1;32mif\u001b[0m \u001b[0mdevices\u001b[0m\u001b[1;33m[\u001b[0m\u001b[0mdevice\u001b[0m\u001b[1;33m]\u001b[0m\u001b[1;33m[\u001b[0m\u001b[1;34m'nq'\u001b[0m\u001b[1;33m]\u001b[0m \u001b[1;33m==\u001b[0m \u001b[1;36m5\u001b[0m\u001b[1;33m:\u001b[0m\u001b[1;33m\u001b[0m\u001b[1;33m\u001b[0m\u001b[0m\n",
      "\u001b[1;31mDeviceOfflineError\u001b[0m: Error when configuring engine list: device requested for Backend not connected"
     ]
    }
   ],
   "source": [
    "eng = MainEngine(engine_list = projectq.setups.ibm.get_engine_list())"
   ]
  },
  {
   "cell_type": "code",
   "execution_count": 5,
   "metadata": {},
   "outputs": [
    {
     "name": "stdout",
     "output_type": "stream",
     "text": [
      "(Note: This is the (slow) Python simulator.)\n",
      "0\n",
      "0\n"
     ]
    }
   ],
   "source": [
    "engine = MainEngine()\n",
    "q1 = engine.allocate_qubit()\n",
    "q2 = engine.allocate_qubit()\n",
    "\n",
    "H | q1\n",
    "CNOT | (q1, q2)\n",
    "Measure | q1\n",
    "Measure | q2\n",
    "\n",
    "engine.flush() \n",
    "\n",
    "print(int(q1))\n",
    "print(int(q2))"
   ]
  }
 ],
 "metadata": {
  "kernelspec": {
   "display_name": "ProjectQ",
   "language": "python",
   "name": "projectq"
  },
  "language_info": {
   "codemirror_mode": {
    "name": "ipython",
    "version": 3
   },
   "file_extension": ".py",
   "mimetype": "text/x-python",
   "name": "python",
   "nbconvert_exporter": "python",
   "pygments_lexer": "ipython3",
   "version": "3.7.3"
  }
 },
 "nbformat": 4,
 "nbformat_minor": 4
}
