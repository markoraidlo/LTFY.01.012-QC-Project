{
 "cells": [
  {
   "cell_type": "markdown",
   "metadata": {},
   "source": [
    "# LTMS projekt\n",
    "**LTFY.01.012 Loodusteadusliku meetodi seminar 2. osa**\n",
    "\n",
    "**Autor: Marko Raidlo**"
   ]
  },
  {
   "cell_type": "markdown",
   "metadata": {},
   "source": [
    "# Sisukord"
   ]
  },
  {
   "cell_type": "markdown",
   "metadata": {},
   "source": [
    "# Kvant arvutamine\n",
    "\n",
    "Fidelity\n",
    "\n",
    "$$F(\\rho, \\sigma) = tr\\sqrt{\\sqrt{\\rho}\\sigma\\sqrt{\\rho}} $$"
   ]
  },
  {
   "cell_type": "markdown",
   "metadata": {},
   "source": [
    "# Qiskit"
   ]
  },
  {
   "cell_type": "markdown",
   "metadata": {},
   "source": [
    "```bash\n",
    "conda create -n name_of_my_env python=3\n",
    "```\n",
    "\n",
    "```bash\n",
    "activate name_of_my_env\n",
    "```\n",
    "\n",
    "```bash\n",
    "pip install qiskit\n",
    "```\n",
    "\n",
    "\n",
    "```python\n",
    "import qiskit\n",
    "```\n",
    "\n",
    "https://quantum-computing.ibm.com/"
   ]
  },
  {
   "cell_type": "markdown",
   "metadata": {},
   "source": [
    "# IBM kvantarvuti mõõtmine"
   ]
  },
  {
   "cell_type": "code",
   "execution_count": 1,
   "metadata": {},
   "outputs": [],
   "source": [
    "# Siit algab reaalne koodi osa\n",
    "# Impordid\n",
    "from qiskit import *\n",
    "from qiskit.tools.visualization import plot_histogram\n",
    "from qiskit.tools.monitor import job_monitor\n",
    "from qiskit.quantum_info import *\n",
    "from qiskit.ignis.verification.tomography import state_tomography_circuits, StateTomographyFitter\n",
    "from math import pi\n",
    "import pandas as pd"
   ]
  },
  {
   "cell_type": "code",
   "execution_count": 2,
   "metadata": {},
   "outputs": [],
   "source": [
    "#IBMQ.save_account(\"\",overwrite = True)\n",
    "\n",
    "IBMQ.load_account()\n",
    "provider = IBMQ.get_provider(\"ibm-q\")"
   ]
  },
  {
   "cell_type": "markdown",
   "metadata": {},
   "source": [
    "***Saadaval olevad backend-id:***\n",
    "\n",
    "ibmq_qasm_simulator\n",
    "\n",
    "ibmqx2\n",
    "\n",
    "ibmq_16_melbourne\n",
    "\n",
    "ibmq_vigo\n",
    "\n",
    "ibmq_ourense\n",
    "\n",
    "ibmq_london\n",
    "\n",
    "ibmq_burlington\n",
    "\n",
    "ibmq_essex\n",
    "\n",
    "ibmq_armonk\n",
    "\n",
    "ibmq_rome"
   ]
  },
  {
   "cell_type": "code",
   "execution_count": 3,
   "metadata": {},
   "outputs": [],
   "source": [
    "def measure_fidelity(axis: bool, rad: int, backend: str, shots: int):\n",
    "    #bool axis - True -> ümber x telje, False -> ümber y telje\n",
    "    #int degrees - Mitu kraadi pöörab ümber telje (Blochi sfääril, radiaanides)\n",
    "    #str backend - Mis kvantarvutil töötab.\n",
    "    #int shots - mitu korda käivitab circutit\n",
    "    #Tagastab fidelity ning reaalse mõõtmise andmed\n",
    "    \n",
    "    # Loob kvantarvuti circuti\n",
    "    qr = QuantumRegister(1)\n",
    "    circuit = QuantumCircuit(qr)\n",
    "    if axis:\n",
    "        circuit.rx(rad, qr[0])\n",
    "    else:\n",
    "        circuit.ry(rad, qr[0])\n",
    "    \n",
    "    # Leiab teoreetilise oleku\n",
    "    state_backend = Aer.get_backend('statevector_simulator')\n",
    "    state_vec = execute(circuit, state_backend).result().get_statevector()\n",
    "    \n",
    "    # Vaja hiljem tihedus maatriksi jaoks\n",
    "    state_tomo = state_tomography_circuits(circuit, qr[0])\n",
    "    \n",
    "    \n",
    "    # Reaalne eksperiment tööle\n",
    "    provider = IBMQ.get_provider(\"ibm-q\")\n",
    "    qcomp = provider.get_backend(backend)\n",
    "   \n",
    "    job = execute(state_tomo, backend = qcomp, shots = shots)\n",
    "    job_monitor(job)\n",
    "    result = job.result()\n",
    "    \n",
    "    # Fidelity leidmine\n",
    "    fitter = StateTomographyFitter(result, state_tomo)\n",
    "    density_matrix = fitter.fit()\n",
    "    fidelity = state_fidelity(state_vec, density_matrix)\n",
    "    \n",
    "    return [fidelity, result.get_counts(state_tomo[0])\n",
    "           , result.get_counts(state_tomo[1]), result.get_counts(state_tomo[2]),\n",
    "           density_matrix]\n"
   ]
  },
  {
   "cell_type": "code",
   "execution_count": 19,
   "metadata": {},
   "outputs": [
    {
     "name": "stdout",
     "output_type": "stream",
     "text": [
      "[7.07106781e-01+0.j         4.32978028e-17-0.70710678j]\n"
     ]
    }
   ],
   "source": [
    "state_qr = QuantumRegister(1)\n",
    "state_circuit = QuantumCircuit(state_qr)\n",
    "\n",
    "state_circuit.rx(pi/2, state_qr[0])\n",
    "\n",
    "state_backend = Aer.get_backend('statevector_simulator')\n",
    "state_vec = execute(state_circuit, state_backend).result().get_statevector()\n",
    "print(state_vec)"
   ]
  },
  {
   "cell_type": "code",
   "execution_count": 28,
   "metadata": {},
   "outputs": [
    {
     "name": "stdout",
     "output_type": "stream",
     "text": [
      "Job q[0]:\n",
      "Job Status: job has successfully run\n",
      "Density matrix:\n",
      "[[0.533+0.j     0.02 +0.4584j]\n",
      " [0.02 -0.4584j 0.467+0.j    ]]\n",
      "Fidelity: 0.9584000000000001\n",
      "Job q[1]:\n",
      "Job Status: job is queued (2)     "
     ]
    },
    {
     "ename": "KeyboardInterrupt",
     "evalue": "",
     "output_type": "error",
     "traceback": [
      "\u001b[1;31m------------------------------------------------------------------------\u001b[0m",
      "\u001b[1;31mKeyboardInterrupt\u001b[0m                      Traceback (most recent call last)",
      "\u001b[1;32m<ipython-input-28-4d80c2d1f96c>\u001b[0m in \u001b[0;36m<module>\u001b[1;34m\u001b[0m\n\u001b[1;32m----> 1\u001b[1;33m \u001b[0mresults\u001b[0m \u001b[1;33m=\u001b[0m \u001b[0mmultible_fidelity\u001b[0m\u001b[1;33m(\u001b[0m\u001b[1;32mTrue\u001b[0m\u001b[1;33m,\u001b[0m \u001b[0mpi\u001b[0m\u001b[1;33m/\u001b[0m\u001b[1;36m2\u001b[0m\u001b[1;33m,\u001b[0m \u001b[1;34m\"ibmq_16_melbourne\"\u001b[0m\u001b[1;33m,\u001b[0m \u001b[1;36m5000\u001b[0m\u001b[1;33m,\u001b[0m \u001b[1;36m15\u001b[0m\u001b[1;33m)\u001b[0m\u001b[1;33m\u001b[0m\u001b[1;33m\u001b[0m\u001b[0m\n\u001b[0m",
      "\u001b[1;32m<ipython-input-27-c61caec6dca9>\u001b[0m in \u001b[0;36mmultible_fidelity\u001b[1;34m(axis, rad, backend, shots, qubit_count)\u001b[0m\n\u001b[0;32m     37\u001b[0m         \u001b[0mprint\u001b[0m\u001b[1;33m(\u001b[0m\u001b[1;34m\"Job q[{}]:\"\u001b[0m\u001b[1;33m.\u001b[0m\u001b[0mformat\u001b[0m\u001b[1;33m(\u001b[0m\u001b[0mi\u001b[0m\u001b[1;33m)\u001b[0m\u001b[1;33m)\u001b[0m\u001b[1;33m\u001b[0m\u001b[1;33m\u001b[0m\u001b[0m\n\u001b[0;32m     38\u001b[0m         \u001b[0mjob\u001b[0m \u001b[1;33m=\u001b[0m \u001b[0mexecute\u001b[0m\u001b[1;33m(\u001b[0m\u001b[0mstate_tomo\u001b[0m\u001b[1;33m,\u001b[0m \u001b[0mbackend\u001b[0m \u001b[1;33m=\u001b[0m \u001b[0mqcomp\u001b[0m\u001b[1;33m,\u001b[0m \u001b[0mshots\u001b[0m \u001b[1;33m=\u001b[0m \u001b[0mshots\u001b[0m\u001b[1;33m)\u001b[0m\u001b[1;33m\u001b[0m\u001b[1;33m\u001b[0m\u001b[0m\n\u001b[1;32m---> 39\u001b[1;33m         \u001b[0mjob_monitor\u001b[0m\u001b[1;33m(\u001b[0m\u001b[0mjob\u001b[0m\u001b[1;33m)\u001b[0m\u001b[1;33m\u001b[0m\u001b[1;33m\u001b[0m\u001b[0m\n\u001b[0m\u001b[0;32m     40\u001b[0m         \u001b[0mresult\u001b[0m \u001b[1;33m=\u001b[0m \u001b[0mjob\u001b[0m\u001b[1;33m.\u001b[0m\u001b[0mresult\u001b[0m\u001b[1;33m(\u001b[0m\u001b[1;33m)\u001b[0m\u001b[1;33m\u001b[0m\u001b[1;33m\u001b[0m\u001b[0m\n\u001b[0;32m     41\u001b[0m \u001b[1;33m\u001b[0m\u001b[0m\n",
      "\u001b[1;32m~\\Anaconda3\\envs\\quantum\\lib\\site-packages\\qiskit\\tools\\monitor\\job_monitor.py\u001b[0m in \u001b[0;36mjob_monitor\u001b[1;34m(job, interval, quiet, output)\u001b[0m\n\u001b[0;32m     83\u001b[0m         \u001b[0m_interval_set\u001b[0m \u001b[1;33m=\u001b[0m \u001b[1;32mTrue\u001b[0m\u001b[1;33m\u001b[0m\u001b[1;33m\u001b[0m\u001b[0m\n\u001b[0;32m     84\u001b[0m \u001b[1;33m\u001b[0m\u001b[0m\n\u001b[1;32m---> 85\u001b[1;33m     _text_checker(job, interval, _interval_set,\n\u001b[0m\u001b[0;32m     86\u001b[0m                   quiet=quiet, output=output)\n",
      "\u001b[1;32m~\\Anaconda3\\envs\\quantum\\lib\\site-packages\\qiskit\\tools\\monitor\\job_monitor.py\u001b[0m in \u001b[0;36m_text_checker\u001b[1;34m(job, interval, _interval_set, quiet, output)\u001b[0m\n\u001b[0;32m     40\u001b[0m         \u001b[0mprint\u001b[0m\u001b[1;33m(\u001b[0m\u001b[1;34m'\\r%s: %s'\u001b[0m \u001b[1;33m%\u001b[0m \u001b[1;33m(\u001b[0m\u001b[1;34m'Job Status'\u001b[0m\u001b[1;33m,\u001b[0m \u001b[0mmsg\u001b[0m\u001b[1;33m)\u001b[0m\u001b[1;33m,\u001b[0m \u001b[0mend\u001b[0m\u001b[1;33m=\u001b[0m\u001b[1;34m''\u001b[0m\u001b[1;33m,\u001b[0m \u001b[0mfile\u001b[0m\u001b[1;33m=\u001b[0m\u001b[0moutput\u001b[0m\u001b[1;33m)\u001b[0m\u001b[1;33m\u001b[0m\u001b[1;33m\u001b[0m\u001b[0m\n\u001b[0;32m     41\u001b[0m     \u001b[1;32mwhile\u001b[0m \u001b[0mstatus\u001b[0m\u001b[1;33m.\u001b[0m\u001b[0mname\u001b[0m \u001b[1;32mnot\u001b[0m \u001b[1;32min\u001b[0m \u001b[1;33m[\u001b[0m\u001b[1;34m'DONE'\u001b[0m\u001b[1;33m,\u001b[0m \u001b[1;34m'CANCELLED'\u001b[0m\u001b[1;33m,\u001b[0m \u001b[1;34m'ERROR'\u001b[0m\u001b[1;33m]\u001b[0m\u001b[1;33m:\u001b[0m\u001b[1;33m\u001b[0m\u001b[1;33m\u001b[0m\u001b[0m\n\u001b[1;32m---> 42\u001b[1;33m         \u001b[0mtime\u001b[0m\u001b[1;33m.\u001b[0m\u001b[0msleep\u001b[0m\u001b[1;33m(\u001b[0m\u001b[0minterval\u001b[0m\u001b[1;33m)\u001b[0m\u001b[1;33m\u001b[0m\u001b[1;33m\u001b[0m\u001b[0m\n\u001b[0m\u001b[0;32m     43\u001b[0m         \u001b[0mstatus\u001b[0m \u001b[1;33m=\u001b[0m \u001b[0mjob\u001b[0m\u001b[1;33m.\u001b[0m\u001b[0mstatus\u001b[0m\u001b[1;33m(\u001b[0m\u001b[1;33m)\u001b[0m\u001b[1;33m\u001b[0m\u001b[1;33m\u001b[0m\u001b[0m\n\u001b[0;32m     44\u001b[0m         \u001b[0mmsg\u001b[0m \u001b[1;33m=\u001b[0m \u001b[0mstatus\u001b[0m\u001b[1;33m.\u001b[0m\u001b[0mvalue\u001b[0m\u001b[1;33m\u001b[0m\u001b[1;33m\u001b[0m\u001b[0m\n",
      "\u001b[1;31mKeyboardInterrupt\u001b[0m: "
     ]
    }
   ],
   "source": [
    "# Setup:\n",
    "# 7 5 qubitist arvutit\n",
    "# Igal arvutil 5 * 2 fidelityit\n",
    "\n",
    "results = multible_fidelity(True, pi/2, \"ibmq_16_melbourne\", 5000, 15)"
   ]
  },
  {
   "cell_type": "code",
   "execution_count": 11,
   "metadata": {},
   "outputs": [],
   "source": [
    "def multible_fidelity(telg: bool, kraadid: float, backend: str, shots: int, qubit_count: int):\n",
    "    # qubit_count - mitme qubiti fidelity leida\n",
    "    # Kuni 5 üldiselt, 15 Melbourne, 32 qasm sim\n",
    "    \n",
    "    #State vectori leidmine:\n",
    "    state_qr = QuantumRegister(1)\n",
    "    state_circuit = QuantumCircuit(state_qr)\n",
    "\n",
    "    if telg:\n",
    "        state_circuit.rx(kraadid, state_qr[0])\n",
    "        name = \"Computer: \" + str(backend) + \" X-axis\"\n",
    "        print(name)\n",
    "    else:\n",
    "        state_circuit.ry(kraadid, state_qr[0])\n",
    "        name = \"Computer: \" + str(backend) + \" Y-axis\" \n",
    "        print(name)\n",
    "    \n",
    "\n",
    "    state_backend = Aer.get_backend('statevector_simulator')\n",
    "    state_vec = execute(state_circuit, state_backend).result().get_statevector()\n",
    "    \n",
    "    \n",
    "    # Loob kvantarvuti circuti\n",
    "    qr = QuantumRegister(qubit_count)\n",
    "    circuit = QuantumCircuit(qr)\n",
    "    \n",
    "    if telg:\n",
    "        for i in range(qubit_count):\n",
    "            circuit.rx(kraadid, qr[i])\n",
    "    else:\n",
    "        for i in range(qubit_count):\n",
    "            circuit.ry(kraadid, qr[i])\n",
    "    \n",
    "    fidelities = []\n",
    "    #Main work loop\n",
    "    for i in range(qubit_count):\n",
    "        state_tomo = state_tomography_circuits(circuit, qr[i])\n",
    "\n",
    "        provider = IBMQ.get_provider(\"ibm-q\")\n",
    "        qcomp = provider.get_backend(backend)\n",
    "\n",
    "        print(\"Job q[{}]:\".format(i))\n",
    "        job = execute(state_tomo, backend = qcomp, shots = shots)\n",
    "        job_monitor(job)\n",
    "        result = job.result()\n",
    "\n",
    "        fitter = StateTomographyFitter(result, state_tomo)\n",
    "        density_matrix = fitter.fit()\n",
    "        fidelity = state_fidelity(state_vec, density_matrix)\n",
    "\n",
    "        fidelities.append(fidelity)\n",
    "        #print(\"Density matrix:\")\n",
    "        #print(density_matrix)\n",
    "        print(\"Fidelity: {}\".format(fidelity))\n",
    "    \n",
    "    # Return some more stuff\n",
    "    return [name] + fidelities"
   ]
  },
  {
   "cell_type": "code",
   "execution_count": 49,
   "metadata": {},
   "outputs": [
    {
     "name": "stdout",
     "output_type": "stream",
     "text": [
      "Computer: ibmq_vigo Y-axis\n",
      "Job q[0]:\n",
      "Job Status: job has successfully run\n",
      "Fidelity: 0.9946000000000008\n",
      "Job q[1]:\n",
      "Job Status: job has successfully run\n",
      "Fidelity: 0.9929999999999982\n",
      "Job q[2]:\n",
      "Job Status: job has successfully run\n",
      "Fidelity: 0.9619999999999995\n",
      "Job q[3]:\n",
      "Job Status: job has successfully run\n",
      "Fidelity: 0.9844000000000008\n",
      "Job q[4]:\n",
      "Job Status: job is queued (2)     "
     ]
    },
    {
     "ename": "IBMQJobApiError",
     "evalue": "\"'Unrecognized answer from server: <Response [200]>. This could be caused by too many requests.'\"",
     "output_type": "error",
     "traceback": [
      "\u001b[1;31m------------------------------------------------------------------------\u001b[0m",
      "\u001b[1;31mJSONDecodeError\u001b[0m                        Traceback (most recent call last)",
      "\u001b[1;32m~\\Anaconda3\\envs\\quantum\\lib\\site-packages\\qiskit\\providers\\ibmq\\api\\rest\\job.py\u001b[0m in \u001b[0;36mstatus\u001b[1;34m(self)\u001b[0m\n\u001b[0;32m    137\u001b[0m         \u001b[1;32mtry\u001b[0m\u001b[1;33m:\u001b[0m\u001b[1;33m\u001b[0m\u001b[1;33m\u001b[0m\u001b[0m\n\u001b[1;32m--> 138\u001b[1;33m             \u001b[0mapi_response\u001b[0m \u001b[1;33m=\u001b[0m \u001b[0mraw_response\u001b[0m\u001b[1;33m.\u001b[0m\u001b[0mjson\u001b[0m\u001b[1;33m(\u001b[0m\u001b[1;33m)\u001b[0m\u001b[1;33m\u001b[0m\u001b[1;33m\u001b[0m\u001b[0m\n\u001b[0m\u001b[0;32m    139\u001b[0m         \u001b[1;32mexcept\u001b[0m \u001b[0mJSONDecodeError\u001b[0m \u001b[1;32mas\u001b[0m \u001b[0merr\u001b[0m\u001b[1;33m:\u001b[0m\u001b[1;33m\u001b[0m\u001b[1;33m\u001b[0m\u001b[0m\n",
      "\u001b[1;32m~\\Anaconda3\\envs\\quantum\\lib\\site-packages\\requests\\models.py\u001b[0m in \u001b[0;36mjson\u001b[1;34m(self, **kwargs)\u001b[0m\n\u001b[0;32m    897\u001b[0m                     \u001b[1;32mpass\u001b[0m\u001b[1;33m\u001b[0m\u001b[1;33m\u001b[0m\u001b[0m\n\u001b[1;32m--> 898\u001b[1;33m         \u001b[1;32mreturn\u001b[0m \u001b[0mcomplexjson\u001b[0m\u001b[1;33m.\u001b[0m\u001b[0mloads\u001b[0m\u001b[1;33m(\u001b[0m\u001b[0mself\u001b[0m\u001b[1;33m.\u001b[0m\u001b[0mtext\u001b[0m\u001b[1;33m,\u001b[0m \u001b[1;33m**\u001b[0m\u001b[0mkwargs\u001b[0m\u001b[1;33m)\u001b[0m\u001b[1;33m\u001b[0m\u001b[1;33m\u001b[0m\u001b[0m\n\u001b[0m\u001b[0;32m    899\u001b[0m \u001b[1;33m\u001b[0m\u001b[0m\n",
      "\u001b[1;32m~\\Anaconda3\\envs\\quantum\\lib\\json\\__init__.py\u001b[0m in \u001b[0;36mloads\u001b[1;34m(s, cls, object_hook, parse_float, parse_int, parse_constant, object_pairs_hook, **kw)\u001b[0m\n\u001b[0;32m    356\u001b[0m             parse_constant is None and object_pairs_hook is None and not kw):\n\u001b[1;32m--> 357\u001b[1;33m         \u001b[1;32mreturn\u001b[0m \u001b[0m_default_decoder\u001b[0m\u001b[1;33m.\u001b[0m\u001b[0mdecode\u001b[0m\u001b[1;33m(\u001b[0m\u001b[0ms\u001b[0m\u001b[1;33m)\u001b[0m\u001b[1;33m\u001b[0m\u001b[1;33m\u001b[0m\u001b[0m\n\u001b[0m\u001b[0;32m    358\u001b[0m     \u001b[1;32mif\u001b[0m \u001b[0mcls\u001b[0m \u001b[1;32mis\u001b[0m \u001b[1;32mNone\u001b[0m\u001b[1;33m:\u001b[0m\u001b[1;33m\u001b[0m\u001b[1;33m\u001b[0m\u001b[0m\n",
      "\u001b[1;32m~\\Anaconda3\\envs\\quantum\\lib\\json\\decoder.py\u001b[0m in \u001b[0;36mdecode\u001b[1;34m(self, s, _w)\u001b[0m\n\u001b[0;32m    336\u001b[0m         \"\"\"\n\u001b[1;32m--> 337\u001b[1;33m         \u001b[0mobj\u001b[0m\u001b[1;33m,\u001b[0m \u001b[0mend\u001b[0m \u001b[1;33m=\u001b[0m \u001b[0mself\u001b[0m\u001b[1;33m.\u001b[0m\u001b[0mraw_decode\u001b[0m\u001b[1;33m(\u001b[0m\u001b[0ms\u001b[0m\u001b[1;33m,\u001b[0m \u001b[0midx\u001b[0m\u001b[1;33m=\u001b[0m\u001b[0m_w\u001b[0m\u001b[1;33m(\u001b[0m\u001b[0ms\u001b[0m\u001b[1;33m,\u001b[0m \u001b[1;36m0\u001b[0m\u001b[1;33m)\u001b[0m\u001b[1;33m.\u001b[0m\u001b[0mend\u001b[0m\u001b[1;33m(\u001b[0m\u001b[1;33m)\u001b[0m\u001b[1;33m)\u001b[0m\u001b[1;33m\u001b[0m\u001b[1;33m\u001b[0m\u001b[0m\n\u001b[0m\u001b[0;32m    338\u001b[0m         \u001b[0mend\u001b[0m \u001b[1;33m=\u001b[0m \u001b[0m_w\u001b[0m\u001b[1;33m(\u001b[0m\u001b[0ms\u001b[0m\u001b[1;33m,\u001b[0m \u001b[0mend\u001b[0m\u001b[1;33m)\u001b[0m\u001b[1;33m.\u001b[0m\u001b[0mend\u001b[0m\u001b[1;33m(\u001b[0m\u001b[1;33m)\u001b[0m\u001b[1;33m\u001b[0m\u001b[1;33m\u001b[0m\u001b[0m\n",
      "\u001b[1;32m~\\Anaconda3\\envs\\quantum\\lib\\json\\decoder.py\u001b[0m in \u001b[0;36mraw_decode\u001b[1;34m(self, s, idx)\u001b[0m\n\u001b[0;32m    354\u001b[0m         \u001b[1;32mexcept\u001b[0m \u001b[0mStopIteration\u001b[0m \u001b[1;32mas\u001b[0m \u001b[0merr\u001b[0m\u001b[1;33m:\u001b[0m\u001b[1;33m\u001b[0m\u001b[1;33m\u001b[0m\u001b[0m\n\u001b[1;32m--> 355\u001b[1;33m             \u001b[1;32mraise\u001b[0m \u001b[0mJSONDecodeError\u001b[0m\u001b[1;33m(\u001b[0m\u001b[1;34m\"Expecting value\"\u001b[0m\u001b[1;33m,\u001b[0m \u001b[0ms\u001b[0m\u001b[1;33m,\u001b[0m \u001b[0merr\u001b[0m\u001b[1;33m.\u001b[0m\u001b[0mvalue\u001b[0m\u001b[1;33m)\u001b[0m \u001b[1;32mfrom\u001b[0m \u001b[1;32mNone\u001b[0m\u001b[1;33m\u001b[0m\u001b[1;33m\u001b[0m\u001b[0m\n\u001b[0m\u001b[0;32m    356\u001b[0m         \u001b[1;32mreturn\u001b[0m \u001b[0mobj\u001b[0m\u001b[1;33m,\u001b[0m \u001b[0mend\u001b[0m\u001b[1;33m\u001b[0m\u001b[1;33m\u001b[0m\u001b[0m\n",
      "\u001b[1;31mJSONDecodeError\u001b[0m: Expecting value: line 1 column 1 (char 0)",
      "\nThe above exception was the direct cause of the following exception:\n",
      "\u001b[1;31mApiIBMQProtocolError\u001b[0m                   Traceback (most recent call last)",
      "\u001b[1;32m~\\Anaconda3\\envs\\quantum\\lib\\site-packages\\qiskit\\providers\\ibmq\\job\\utils.py\u001b[0m in \u001b[0;36mapi_to_job_error\u001b[1;34m()\u001b[0m\n\u001b[0;32m     76\u001b[0m     \u001b[1;32mtry\u001b[0m\u001b[1;33m:\u001b[0m\u001b[1;33m\u001b[0m\u001b[1;33m\u001b[0m\u001b[0m\n\u001b[1;32m---> 77\u001b[1;33m         \u001b[1;32myield\u001b[0m\u001b[1;33m\u001b[0m\u001b[1;33m\u001b[0m\u001b[0m\n\u001b[0m\u001b[0;32m     78\u001b[0m     \u001b[1;32mexcept\u001b[0m \u001b[0mApiError\u001b[0m \u001b[1;32mas\u001b[0m \u001b[0mapi_err\u001b[0m\u001b[1;33m:\u001b[0m\u001b[1;33m\u001b[0m\u001b[1;33m\u001b[0m\u001b[0m\n",
      "\u001b[1;32m~\\Anaconda3\\envs\\quantum\\lib\\site-packages\\qiskit\\providers\\ibmq\\job\\ibmqjob.py\u001b[0m in \u001b[0;36mstatus\u001b[1;34m(self)\u001b[0m\n\u001b[0;32m    299\u001b[0m         \u001b[1;32mwith\u001b[0m \u001b[0mapi_to_job_error\u001b[0m\u001b[1;33m(\u001b[0m\u001b[1;33m)\u001b[0m\u001b[1;33m:\u001b[0m\u001b[1;33m\u001b[0m\u001b[1;33m\u001b[0m\u001b[0m\n\u001b[1;32m--> 300\u001b[1;33m             \u001b[0mapi_response\u001b[0m \u001b[1;33m=\u001b[0m \u001b[0mself\u001b[0m\u001b[1;33m.\u001b[0m\u001b[0m_api\u001b[0m\u001b[1;33m.\u001b[0m\u001b[0mjob_status\u001b[0m\u001b[1;33m(\u001b[0m\u001b[0mself\u001b[0m\u001b[1;33m.\u001b[0m\u001b[0mjob_id\u001b[0m\u001b[1;33m(\u001b[0m\u001b[1;33m)\u001b[0m\u001b[1;33m)\u001b[0m\u001b[1;33m\u001b[0m\u001b[1;33m\u001b[0m\u001b[0m\n\u001b[0m\u001b[0;32m    301\u001b[0m             self._status, self._queue_info = self._get_status_position(\n",
      "\u001b[1;32m~\\Anaconda3\\envs\\quantum\\lib\\site-packages\\qiskit\\providers\\ibmq\\api\\clients\\account.py\u001b[0m in \u001b[0;36mjob_status\u001b[1;34m(self, job_id)\u001b[0m\n\u001b[0;32m    380\u001b[0m         \"\"\"\n\u001b[1;32m--> 381\u001b[1;33m         \u001b[1;32mreturn\u001b[0m \u001b[0mself\u001b[0m\u001b[1;33m.\u001b[0m\u001b[0mclient_api\u001b[0m\u001b[1;33m.\u001b[0m\u001b[0mjob\u001b[0m\u001b[1;33m(\u001b[0m\u001b[0mjob_id\u001b[0m\u001b[1;33m)\u001b[0m\u001b[1;33m.\u001b[0m\u001b[0mstatus\u001b[0m\u001b[1;33m(\u001b[0m\u001b[1;33m)\u001b[0m\u001b[1;33m\u001b[0m\u001b[1;33m\u001b[0m\u001b[0m\n\u001b[0m\u001b[0;32m    382\u001b[0m \u001b[1;33m\u001b[0m\u001b[0m\n",
      "\u001b[1;32m~\\Anaconda3\\envs\\quantum\\lib\\site-packages\\qiskit\\providers\\ibmq\\api\\rest\\job.py\u001b[0m in \u001b[0;36mstatus\u001b[1;34m(self)\u001b[0m\n\u001b[0;32m    139\u001b[0m         \u001b[1;32mexcept\u001b[0m \u001b[0mJSONDecodeError\u001b[0m \u001b[1;32mas\u001b[0m \u001b[0merr\u001b[0m\u001b[1;33m:\u001b[0m\u001b[1;33m\u001b[0m\u001b[1;33m\u001b[0m\u001b[0m\n\u001b[1;32m--> 140\u001b[1;33m             raise ApiIBMQProtocolError(\n\u001b[0m\u001b[0;32m    141\u001b[0m                 \u001b[1;34m'Unrecognized answer from server: {}. '\u001b[0m\u001b[1;33m\u001b[0m\u001b[1;33m\u001b[0m\u001b[0m\n",
      "\u001b[1;31mApiIBMQProtocolError\u001b[0m: 'Unrecognized answer from server: <Response [200]>. This could be caused by too many requests.'",
      "\nDuring handling of the above exception, another exception occurred:\n",
      "\u001b[1;31mIBMQJobApiError\u001b[0m                        Traceback (most recent call last)",
      "\u001b[1;32m<ipython-input-49-49ec88bf0c7d>\u001b[0m in \u001b[0;36m<module>\u001b[1;34m\u001b[0m\n\u001b[1;32m----> 1\u001b[1;33m \u001b[0mprint\u001b[0m\u001b[1;33m(\u001b[0m\u001b[0mmultible_fidelity\u001b[0m\u001b[1;33m(\u001b[0m\u001b[1;32mFalse\u001b[0m\u001b[1;33m,\u001b[0m \u001b[0mpi\u001b[0m\u001b[1;33m/\u001b[0m\u001b[1;36m2\u001b[0m\u001b[1;33m,\u001b[0m \u001b[1;34m\"ibmq_vigo\"\u001b[0m\u001b[1;33m,\u001b[0m \u001b[1;36m5000\u001b[0m\u001b[1;33m,\u001b[0m \u001b[1;36m5\u001b[0m\u001b[1;33m)\u001b[0m\u001b[1;33m)\u001b[0m\u001b[1;33m\u001b[0m\u001b[1;33m\u001b[0m\u001b[0m\n\u001b[0m",
      "\u001b[1;32m<ipython-input-11-e84a9ac2b997>\u001b[0m in \u001b[0;36mmultible_fidelity\u001b[1;34m(telg, kraadid, backend, shots, qubit_count)\u001b[0m\n\u001b[0;32m     42\u001b[0m         \u001b[0mprint\u001b[0m\u001b[1;33m(\u001b[0m\u001b[1;34m\"Job q[{}]:\"\u001b[0m\u001b[1;33m.\u001b[0m\u001b[0mformat\u001b[0m\u001b[1;33m(\u001b[0m\u001b[0mi\u001b[0m\u001b[1;33m)\u001b[0m\u001b[1;33m)\u001b[0m\u001b[1;33m\u001b[0m\u001b[1;33m\u001b[0m\u001b[0m\n\u001b[0;32m     43\u001b[0m         \u001b[0mjob\u001b[0m \u001b[1;33m=\u001b[0m \u001b[0mexecute\u001b[0m\u001b[1;33m(\u001b[0m\u001b[0mstate_tomo\u001b[0m\u001b[1;33m,\u001b[0m \u001b[0mbackend\u001b[0m \u001b[1;33m=\u001b[0m \u001b[0mqcomp\u001b[0m\u001b[1;33m,\u001b[0m \u001b[0mshots\u001b[0m \u001b[1;33m=\u001b[0m \u001b[0mshots\u001b[0m\u001b[1;33m)\u001b[0m\u001b[1;33m\u001b[0m\u001b[1;33m\u001b[0m\u001b[0m\n\u001b[1;32m---> 44\u001b[1;33m         \u001b[0mjob_monitor\u001b[0m\u001b[1;33m(\u001b[0m\u001b[0mjob\u001b[0m\u001b[1;33m)\u001b[0m\u001b[1;33m\u001b[0m\u001b[1;33m\u001b[0m\u001b[0m\n\u001b[0m\u001b[0;32m     45\u001b[0m         \u001b[0mresult\u001b[0m \u001b[1;33m=\u001b[0m \u001b[0mjob\u001b[0m\u001b[1;33m.\u001b[0m\u001b[0mresult\u001b[0m\u001b[1;33m(\u001b[0m\u001b[1;33m)\u001b[0m\u001b[1;33m\u001b[0m\u001b[1;33m\u001b[0m\u001b[0m\n\u001b[0;32m     46\u001b[0m \u001b[1;33m\u001b[0m\u001b[0m\n",
      "\u001b[1;32m~\\Anaconda3\\envs\\quantum\\lib\\site-packages\\qiskit\\tools\\monitor\\job_monitor.py\u001b[0m in \u001b[0;36mjob_monitor\u001b[1;34m(job, interval, quiet, output)\u001b[0m\n\u001b[0;32m     83\u001b[0m         \u001b[0m_interval_set\u001b[0m \u001b[1;33m=\u001b[0m \u001b[1;32mTrue\u001b[0m\u001b[1;33m\u001b[0m\u001b[1;33m\u001b[0m\u001b[0m\n\u001b[0;32m     84\u001b[0m \u001b[1;33m\u001b[0m\u001b[0m\n\u001b[1;32m---> 85\u001b[1;33m     _text_checker(job, interval, _interval_set,\n\u001b[0m\u001b[0;32m     86\u001b[0m                   quiet=quiet, output=output)\n",
      "\u001b[1;32m~\\Anaconda3\\envs\\quantum\\lib\\site-packages\\qiskit\\tools\\monitor\\job_monitor.py\u001b[0m in \u001b[0;36m_text_checker\u001b[1;34m(job, interval, _interval_set, quiet, output)\u001b[0m\n\u001b[0;32m     41\u001b[0m     \u001b[1;32mwhile\u001b[0m \u001b[0mstatus\u001b[0m\u001b[1;33m.\u001b[0m\u001b[0mname\u001b[0m \u001b[1;32mnot\u001b[0m \u001b[1;32min\u001b[0m \u001b[1;33m[\u001b[0m\u001b[1;34m'DONE'\u001b[0m\u001b[1;33m,\u001b[0m \u001b[1;34m'CANCELLED'\u001b[0m\u001b[1;33m,\u001b[0m \u001b[1;34m'ERROR'\u001b[0m\u001b[1;33m]\u001b[0m\u001b[1;33m:\u001b[0m\u001b[1;33m\u001b[0m\u001b[1;33m\u001b[0m\u001b[0m\n\u001b[0;32m     42\u001b[0m         \u001b[0mtime\u001b[0m\u001b[1;33m.\u001b[0m\u001b[0msleep\u001b[0m\u001b[1;33m(\u001b[0m\u001b[0minterval\u001b[0m\u001b[1;33m)\u001b[0m\u001b[1;33m\u001b[0m\u001b[1;33m\u001b[0m\u001b[0m\n\u001b[1;32m---> 43\u001b[1;33m         \u001b[0mstatus\u001b[0m \u001b[1;33m=\u001b[0m \u001b[0mjob\u001b[0m\u001b[1;33m.\u001b[0m\u001b[0mstatus\u001b[0m\u001b[1;33m(\u001b[0m\u001b[1;33m)\u001b[0m\u001b[1;33m\u001b[0m\u001b[1;33m\u001b[0m\u001b[0m\n\u001b[0m\u001b[0;32m     44\u001b[0m         \u001b[0mmsg\u001b[0m \u001b[1;33m=\u001b[0m \u001b[0mstatus\u001b[0m\u001b[1;33m.\u001b[0m\u001b[0mvalue\u001b[0m\u001b[1;33m\u001b[0m\u001b[1;33m\u001b[0m\u001b[0m\n\u001b[0;32m     45\u001b[0m \u001b[1;33m\u001b[0m\u001b[0m\n",
      "\u001b[1;32m~\\Anaconda3\\envs\\quantum\\lib\\site-packages\\qiskit\\providers\\ibmq\\job\\ibmqjob.py\u001b[0m in \u001b[0;36mstatus\u001b[1;34m(self)\u001b[0m\n\u001b[0;32m    299\u001b[0m         \u001b[1;32mwith\u001b[0m \u001b[0mapi_to_job_error\u001b[0m\u001b[1;33m(\u001b[0m\u001b[1;33m)\u001b[0m\u001b[1;33m:\u001b[0m\u001b[1;33m\u001b[0m\u001b[1;33m\u001b[0m\u001b[0m\n\u001b[0;32m    300\u001b[0m             \u001b[0mapi_response\u001b[0m \u001b[1;33m=\u001b[0m \u001b[0mself\u001b[0m\u001b[1;33m.\u001b[0m\u001b[0m_api\u001b[0m\u001b[1;33m.\u001b[0m\u001b[0mjob_status\u001b[0m\u001b[1;33m(\u001b[0m\u001b[0mself\u001b[0m\u001b[1;33m.\u001b[0m\u001b[0mjob_id\u001b[0m\u001b[1;33m(\u001b[0m\u001b[1;33m)\u001b[0m\u001b[1;33m)\u001b[0m\u001b[1;33m\u001b[0m\u001b[1;33m\u001b[0m\u001b[0m\n\u001b[1;32m--> 301\u001b[1;33m             self._status, self._queue_info = self._get_status_position(\n\u001b[0m\u001b[0;32m    302\u001b[0m                 ApiJobStatus(api_response['status']), api_response.get('infoQueue', None))\n\u001b[0;32m    303\u001b[0m \u001b[1;33m\u001b[0m\u001b[0m\n",
      "\u001b[1;32m~\\Anaconda3\\envs\\quantum\\lib\\contextlib.py\u001b[0m in \u001b[0;36m__exit__\u001b[1;34m(self, type, value, traceback)\u001b[0m\n\u001b[0;32m    129\u001b[0m                 \u001b[0mvalue\u001b[0m \u001b[1;33m=\u001b[0m \u001b[0mtype\u001b[0m\u001b[1;33m(\u001b[0m\u001b[1;33m)\u001b[0m\u001b[1;33m\u001b[0m\u001b[1;33m\u001b[0m\u001b[0m\n\u001b[0;32m    130\u001b[0m             \u001b[1;32mtry\u001b[0m\u001b[1;33m:\u001b[0m\u001b[1;33m\u001b[0m\u001b[1;33m\u001b[0m\u001b[0m\n\u001b[1;32m--> 131\u001b[1;33m                 \u001b[0mself\u001b[0m\u001b[1;33m.\u001b[0m\u001b[0mgen\u001b[0m\u001b[1;33m.\u001b[0m\u001b[0mthrow\u001b[0m\u001b[1;33m(\u001b[0m\u001b[0mtype\u001b[0m\u001b[1;33m,\u001b[0m \u001b[0mvalue\u001b[0m\u001b[1;33m,\u001b[0m \u001b[0mtraceback\u001b[0m\u001b[1;33m)\u001b[0m\u001b[1;33m\u001b[0m\u001b[1;33m\u001b[0m\u001b[0m\n\u001b[0m\u001b[0;32m    132\u001b[0m             \u001b[1;32mexcept\u001b[0m \u001b[0mStopIteration\u001b[0m \u001b[1;32mas\u001b[0m \u001b[0mexc\u001b[0m\u001b[1;33m:\u001b[0m\u001b[1;33m\u001b[0m\u001b[1;33m\u001b[0m\u001b[0m\n\u001b[0;32m    133\u001b[0m                 \u001b[1;31m# Suppress StopIteration *unless* it's the same exception that\u001b[0m\u001b[1;33m\u001b[0m\u001b[1;33m\u001b[0m\u001b[1;33m\u001b[0m\u001b[0m\n",
      "\u001b[1;32m~\\Anaconda3\\envs\\quantum\\lib\\site-packages\\qiskit\\providers\\ibmq\\job\\utils.py\u001b[0m in \u001b[0;36mapi_to_job_error\u001b[1;34m()\u001b[0m\n\u001b[0;32m     77\u001b[0m         \u001b[1;32myield\u001b[0m\u001b[1;33m\u001b[0m\u001b[1;33m\u001b[0m\u001b[0m\n\u001b[0;32m     78\u001b[0m     \u001b[1;32mexcept\u001b[0m \u001b[0mApiError\u001b[0m \u001b[1;32mas\u001b[0m \u001b[0mapi_err\u001b[0m\u001b[1;33m:\u001b[0m\u001b[1;33m\u001b[0m\u001b[1;33m\u001b[0m\u001b[0m\n\u001b[1;32m---> 79\u001b[1;33m         \u001b[1;32mraise\u001b[0m \u001b[0mIBMQJobApiError\u001b[0m\u001b[1;33m(\u001b[0m\u001b[0mstr\u001b[0m\u001b[1;33m(\u001b[0m\u001b[0mapi_err\u001b[0m\u001b[1;33m)\u001b[0m\u001b[1;33m)\u001b[0m\u001b[1;33m\u001b[0m\u001b[1;33m\u001b[0m\u001b[0m\n\u001b[0m",
      "\u001b[1;31mIBMQJobApiError\u001b[0m: \"'Unrecognized answer from server: <Response [200]>. This could be caused by too many requests.'\""
     ]
    }
   ],
   "source": [
    "print(multible_fidelity(False, pi/2, \"ibmq_vigo\", 5000, 5))"
   ]
  },
  {
   "cell_type": "code",
   "execution_count": 17,
   "metadata": {},
   "outputs": [
    {
     "name": "stdout",
     "output_type": "stream",
     "text": [
      "Job Status: job has successfully run\n"
     ]
    }
   ],
   "source": [
    "state_qr = QuantumRegister(1)\n",
    "state_circuit = QuantumCircuit(state_qr)\n",
    "\n",
    "    \n",
    "# Loob kvantarvuti circuti\n",
    "qr = QuantumRegister(5)\n",
    "circuit = QuantumCircuit(qr)\n",
    "    \n",
    "\n",
    "for i in range(5):\n",
    "    circuit.rx(pi /2, qr[i])\n",
    "\n",
    "    \n",
    "state_tomo = state_tomography_circuits(circuit, qr[i])\n",
    "\n",
    "provider = IBMQ.get_provider(\"ibm-q\")\n",
    "qcomp = provider.get_backend(\"ibmq_athens\")\n",
    "\n",
    "\n",
    "job = execute(state_tomo, backend = qcomp, shots = 5000)\n",
    "job_monitor(job)\n",
    "result = job.result()\n",
    "\n",
    "fitter = StateTomographyFitter(result, state_tomo)\n",
    "density_matrix = fitter.fit()\n",
    "\n",
    "\n"
   ]
  },
  {
   "cell_type": "code",
   "execution_count": 47,
   "metadata": {},
   "outputs": [
    {
     "data": {
      "image/png": "[encoded data removed]",
      "text/plain": [
       "<Figure size 504x360 with 1 Axes>"
      ]
     },
     "execution_count": 47,
     "metadata": {},
     "output_type": "execute_result"
    }
   ],
   "source": [
    "plot_histogram(result.get_counts(state_tomo[2]))"
   ]
  },
  {
   "cell_type": "code",
   "execution_count": 45,
   "metadata": {},
   "outputs": [
    {
     "data": {
      "image/png": "[encoded data removed]",
      "text/plain": [
       "<Figure size 504x360 with 1 Axes>"
      ]
     },
     "execution_count": 45,
     "metadata": {},
     "output_type": "execute_result"
    }
   ],
   "source": [
    "plot_histogram(result.get_counts(state_tomo[0]))"
   ]
  },
  {
   "cell_type": "code",
   "execution_count": 46,
   "metadata": {},
   "outputs": [
    {
     "data": {
      "image/png": "[encoded data removed]",
      "text/plain": [
       "<Figure size 504x360 with 1 Axes>"
      ]
     },
     "execution_count": 46,
     "metadata": {},
     "output_type": "execute_result"
    }
   ],
   "source": [
    "plot_histogram(result.get_counts(state_tomo[1]))"
   ]
  },
  {
   "cell_type": "code",
   "execution_count": 36,
   "metadata": {},
   "outputs": [
    {
     "data": {
      "image/png": "[encoded data removed]",
      "text/plain": [
       "<Figure size 360x360 with 1 Axes>"
      ]
     },
     "execution_count": 36,
     "metadata": {},
     "output_type": "execute_result"
    }
   ],
   "source": [
    "from qiskit.visualization import plot_gate_map\n",
    "\n",
    "plot_gate_map(qcomp)\n",
    "# Athens, Rome, "
   ]
  },
  {
   "cell_type": "code",
   "execution_count": 24,
   "metadata": {},
   "outputs": [
    {
     "data": {
      "image/png": "[encoded data removed]",
      "text/plain": [
       "<Figure size 360x360 with 1 Axes>"
      ]
     },
     "execution_count": 24,
     "metadata": {},
     "output_type": "execute_result"
    }
   ],
   "source": [
    "plot_gate_map(IBMQ.get_provider(\"ibm-q\").get_backend(\"ibmq_london\"))\n",
    "#London, Essex, Burlington, Ourense, Vigo"
   ]
  },
  {
   "cell_type": "code",
   "execution_count": 33,
   "metadata": {},
   "outputs": [
    {
     "data": {
      "image/png": "[encoded data removed]",
      "text/plain": [
       "<Figure size 360x360 with 1 Axes>"
      ]
     },
     "execution_count": 33,
     "metadata": {},
     "output_type": "execute_result"
    }
   ],
   "source": [
    "plot_gate_map(IBMQ.get_provider(\"ibm-q\").get_backend(\"ibmqx2\"))\n",
    "#ibmqx2"
   ]
  },
  {
   "cell_type": "code",
   "execution_count": 5,
   "metadata": {},
   "outputs": [],
   "source": [
    "dataframe = pd.DataFrame(columns=['name', 'q0', 'q1', 'q2', 'q3', 'q4'])"
   ]
  },
  {
   "cell_type": "code",
   "execution_count": 7,
   "metadata": {},
   "outputs": [
    {
     "name": "stdout",
     "output_type": "stream",
     "text": [
      "Computer: ibmq_rome X-axis\n",
      "Job q[0]:\n",
      "Job Status: job has successfully run\n",
      "Fidelity: 0.9516000000000004\n",
      "Job q[1]:\n",
      "Job Status: job has successfully run\n",
      "Fidelity: 0.9415999999999998\n",
      "Job q[2]:\n",
      "Job Status: job has successfully run\n",
      "Fidelity: 0.9194\n",
      "Job q[3]:\n",
      "Job Status: job has successfully run\n",
      "Fidelity: 0.9447999999999996\n",
      "Job q[4]:\n",
      "Job Status: job has successfully run\n",
      "Fidelity: 0.9484000000000005\n",
      "Computer: ibmq_rome Y-axis\n",
      "Job q[0]:\n",
      "Job Status: job has successfully run\n",
      "Fidelity: 0.9927999999999995\n",
      "Job q[1]:\n",
      "Job Status: job has successfully run\n",
      "Fidelity: 0.9788000000000004\n",
      "Job q[2]:\n",
      "Job Status: job has successfully run\n",
      "Fidelity: 0.9659999999999997\n",
      "Job q[3]:\n",
      "Job Status: job has successfully run\n",
      "Fidelity: 0.9712000000000005\n",
      "Job q[4]:\n",
      "Job Status: job has successfully run\n",
      "Fidelity: 0.9934000000000008\n",
      "Computer: ibmq_essex X-axis\n",
      "Job q[0]:\n",
      "Job Status: job has successfully run\n",
      "Fidelity: 0.9448000000000001\n",
      "Job q[1]:\n",
      "Job Status: job has successfully run\n",
      "Fidelity: 0.8358000000000002\n",
      "Job q[2]:\n",
      "Job Status: job has successfully run\n",
      "Fidelity: 0.9432000000000001\n",
      "Job q[3]:\n",
      "Job Status: job has successfully run\n",
      "Fidelity: 0.9305999999999999\n",
      "Job q[4]:\n",
      "Job Status: job has successfully run\n",
      "Fidelity: 0.9613999999999998\n",
      "Computer: ibmq_essex Y-axis\n",
      "Job q[0]:\n",
      "Job Status: job has successfully run\n",
      "Fidelity: 0.7452000000000008\n",
      "Job q[1]:\n",
      "Job Status: job has successfully run\n",
      "Fidelity: 0.8452000000000006\n",
      "Job q[2]:\n",
      "Job Status: job has successfully run\n",
      "Fidelity: 0.9598000000000003\n",
      "Job q[3]:\n",
      "Job Status: job has successfully run\n",
      "Fidelity: 0.9648000000000007\n",
      "Job q[4]:\n",
      "Job Status: job has successfully run\n",
      "Fidelity: 0.9894\n",
      "Computer: ibmqx2 X-axis\n",
      "Job q[0]:\n",
      "Job Status: job has successfully run\n",
      "Fidelity: 0.9584188250814345\n",
      "Job q[1]:\n",
      "Job Status: job has successfully run\n",
      "Fidelity: 0.9466000000000003\n",
      "Job q[2]:\n",
      "Job Status: job has successfully run\n",
      "Fidelity: 0.6852000000000003\n",
      "Job q[3]:\n",
      "Job Status: job has successfully run\n",
      "Fidelity: 0.9819999999999995\n",
      "Job q[4]:\n",
      "Job Status: job has successfully run\n",
      "Fidelity: 0.9624000000000004\n",
      "Computer: ibmqx2 Y-axis\n",
      "Job q[0]:\n",
      "Job Status: job has successfully run\n",
      "Fidelity: 0.7136000000000005\n",
      "Job q[1]:\n",
      "Job Status: job has successfully run\n",
      "Fidelity: 0.9184000000000003\n",
      "Job q[2]:\n",
      "Job Status: job has successfully run\n",
      "Fidelity: 0.6916000000000001\n",
      "Job q[3]:\n",
      "Job Status: job has successfully run\n",
      "Fidelity: 0.9613999999999997\n",
      "Job q[4]:\n",
      "Job Status: job has successfully run\n",
      "Fidelity: 0.9877999999999993\n",
      "Computer: ibmq_burlington X-axis\n",
      "Job q[0]:\n",
      "Job Status: job has successfully run\n",
      "Fidelity: 0.7832\n",
      "Job q[1]:\n",
      "Job Status: job has successfully run\n",
      "Fidelity: 0.8284000000000001\n",
      "Job q[2]:\n",
      "Job Status: job has successfully run\n",
      "Fidelity: 0.9484000000000008\n",
      "Job q[3]:\n",
      "Job Status: job has successfully run\n",
      "Fidelity: 0.9090000000000006\n",
      "Job q[4]:\n",
      "Job Status: job has successfully run\n",
      "Fidelity: 0.9536000000000004\n",
      "Computer: ibmq_burlington Y-axis\n",
      "Job q[0]:\n",
      "Job Status: job has successfully run\n",
      "Fidelity: 0.9016000000000004\n",
      "Job q[1]:\n",
      "Job Status: job has successfully run\n",
      "Fidelity: 0.8088000000000006\n",
      "Job q[2]:\n",
      "Job Status: job has successfully run\n",
      "Fidelity: 0.9837999999999995\n",
      "Job q[3]:\n",
      "Job Status: job has successfully run\n",
      "Fidelity: 0.9554000000000001\n",
      "Job q[4]:\n",
      "Job Status: job has successfully run\n",
      "Fidelity: 0.9752000000000001\n",
      "Computer: ibmq_ourense X-axis\n",
      "Job q[0]:\n",
      "Job Status: job has successfully run\n",
      "Fidelity: 0.9601999999999999\n",
      "Job q[1]:\n",
      "Job Status: job has successfully run\n",
      "Fidelity: 0.9661999999999997\n",
      "Job q[2]:\n",
      "Job Status: job has successfully run\n",
      "Fidelity: 0.9712000000000003\n",
      "Job q[3]:\n",
      "Job Status: job has successfully run\n",
      "Fidelity: 0.8812000000000002\n",
      "Job q[4]:\n",
      "Job Status: job has successfully run\n",
      "Fidelity: 0.8658000000000002\n",
      "Computer: ibmq_ourense Y-axis\n",
      "Job q[0]:\n",
      "Job Status: job has successfully run\n",
      "Fidelity: 0.9869999999999995\n",
      "Job q[1]:\n",
      "Job Status: job has successfully run\n",
      "Fidelity: 0.9747999999999999\n",
      "Job q[2]:\n",
      "Job Status: job has successfully run\n",
      "Fidelity: 0.9877999999999996\n",
      "Job q[3]:\n",
      "Job Status: job has successfully run\n",
      "Fidelity: 0.9380000000000004\n",
      "Job q[4]:\n",
      "Job Status: job has successfully run\n",
      "Fidelity: 0.8851999999999995\n",
      "Computer: ibmq_london X-axis\n",
      "Job q[0]:\n",
      "Job Status: job has successfully run\n",
      "Fidelity: 0.9286000000000003\n",
      "Job q[1]:\n",
      "Job Status: job has successfully run\n",
      "Fidelity: 0.9218000000000004\n",
      "Job q[2]:\n",
      "Job Status: job has successfully run\n",
      "Fidelity: 0.9104000000000001\n",
      "Job q[3]:\n",
      "Job Status: job has successfully run\n",
      "Fidelity: 0.9176000000000006\n",
      "Job q[4]:\n",
      "Job Status: job has successfully run\n",
      "Fidelity: 0.9393999999999996\n",
      "Computer: ibmq_london Y-axis\n",
      "Job q[0]:\n",
      "Job Status: job has successfully run\n",
      "Fidelity: 0.9959999999999959\n",
      "Job q[1]:\n",
      "Job Status: job has successfully run\n",
      "Fidelity: 0.9880000000000011\n",
      "Job q[2]:\n",
      "Job Status: job has successfully run\n",
      "Fidelity: 0.9755999999999996\n",
      "Job q[3]:\n",
      "Job Status: job has successfully run\n",
      "Fidelity: 0.9916000000000007\n",
      "Job q[4]:\n",
      "Job Status: job has successfully run\n",
      "Fidelity: 0.9946000000000013\n",
      "Computer: ibmq_vigo X-axis\n",
      "Job q[0]:\n",
      "Job Status: job has successfully run\n",
      "Fidelity: 0.9680000000000002\n",
      "Job q[1]:\n",
      "Job Status: job has successfully run\n",
      "Fidelity: 0.8708000000000002\n",
      "Job q[2]:\n",
      "Job Status: job has successfully run\n",
      "Fidelity: 0.9420000000000004\n",
      "Job q[3]:\n",
      "Job Status: job has successfully run\n",
      "Fidelity: 0.9651999999999998\n",
      "Job q[4]:\n",
      "Job Status: job has successfully run\n",
      "Fidelity: 0.9722000000000005\n",
      "Computer: ibmq_vigo Y-axis\n",
      "Job q[0]:\n",
      "Job Status: job has successfully run\n",
      "Fidelity: 0.9926000000000008\n",
      "Job q[1]:\n",
      "Job Status: job has successfully run\n",
      "Fidelity: 0.9938000000000016\n",
      "Job q[2]:\n",
      "Job Status: job has successfully run\n",
      "Fidelity: 0.9614000000000003\n",
      "Job q[3]:\n",
      "Job Status: job is queued (9)     "
     ]
    },
    {
     "ename": "IBMQJobApiError",
     "evalue": "'\"HTTPSConnectionPool(host=\\'api.quantum-computing.ibm.com\\', port=443): Max retries exceeded with url: /api/Network/ibm-q/Groups/open/Projects/main/Jobs/5eadd2302d945a0011609ba8/status (Caused by NewConnectionError(\\'<urllib3.connection.VerifiedHTTPSConnection object at 0x00000171CD609AC0>: Failed to establish a new connection: [Errno 11001] getaddrinfo failed\\'))\"'",
     "output_type": "error",
     "traceback": [
      "\u001b[1;31m-----------------------------------------------------------------------\u001b[0m",
      "\u001b[1;31mgaierror\u001b[0m                              Traceback (most recent call last)",
      "\u001b[1;32m~\\Anaconda3\\envs\\quantum\\lib\\site-packages\\urllib3\\connection.py\u001b[0m in \u001b[0;36m_new_conn\u001b[1;34m(self)\u001b[0m\n\u001b[0;32m    155\u001b[0m         \u001b[1;32mtry\u001b[0m\u001b[1;33m:\u001b[0m\u001b[1;33m\u001b[0m\u001b[1;33m\u001b[0m\u001b[0m\n\u001b[1;32m--> 156\u001b[1;33m             conn = connection.create_connection(\n\u001b[0m\u001b[0;32m    157\u001b[0m                 \u001b[1;33m(\u001b[0m\u001b[0mself\u001b[0m\u001b[1;33m.\u001b[0m\u001b[0m_dns_host\u001b[0m\u001b[1;33m,\u001b[0m \u001b[0mself\u001b[0m\u001b[1;33m.\u001b[0m\u001b[0mport\u001b[0m\u001b[1;33m)\u001b[0m\u001b[1;33m,\u001b[0m \u001b[0mself\u001b[0m\u001b[1;33m.\u001b[0m\u001b[0mtimeout\u001b[0m\u001b[1;33m,\u001b[0m \u001b[1;33m**\u001b[0m\u001b[0mextra_kw\u001b[0m\u001b[1;33m\u001b[0m\u001b[1;33m\u001b[0m\u001b[0m\n",
      "\u001b[1;32m~\\Anaconda3\\envs\\quantum\\lib\\site-packages\\urllib3\\util\\connection.py\u001b[0m in \u001b[0;36mcreate_connection\u001b[1;34m(address, timeout, source_address, socket_options)\u001b[0m\n\u001b[0;32m     60\u001b[0m \u001b[1;33m\u001b[0m\u001b[0m\n\u001b[1;32m---> 61\u001b[1;33m     \u001b[1;32mfor\u001b[0m \u001b[0mres\u001b[0m \u001b[1;32min\u001b[0m \u001b[0msocket\u001b[0m\u001b[1;33m.\u001b[0m\u001b[0mgetaddrinfo\u001b[0m\u001b[1;33m(\u001b[0m\u001b[0mhost\u001b[0m\u001b[1;33m,\u001b[0m \u001b[0mport\u001b[0m\u001b[1;33m,\u001b[0m \u001b[0mfamily\u001b[0m\u001b[1;33m,\u001b[0m \u001b[0msocket\u001b[0m\u001b[1;33m.\u001b[0m\u001b[0mSOCK_STREAM\u001b[0m\u001b[1;33m)\u001b[0m\u001b[1;33m:\u001b[0m\u001b[1;33m\u001b[0m\u001b[1;33m\u001b[0m\u001b[0m\n\u001b[0m\u001b[0;32m     62\u001b[0m         \u001b[0maf\u001b[0m\u001b[1;33m,\u001b[0m \u001b[0msocktype\u001b[0m\u001b[1;33m,\u001b[0m \u001b[0mproto\u001b[0m\u001b[1;33m,\u001b[0m \u001b[0mcanonname\u001b[0m\u001b[1;33m,\u001b[0m \u001b[0msa\u001b[0m \u001b[1;33m=\u001b[0m \u001b[0mres\u001b[0m\u001b[1;33m\u001b[0m\u001b[1;33m\u001b[0m\u001b[0m\n",
      "\u001b[1;32m~\\Anaconda3\\envs\\quantum\\lib\\socket.py\u001b[0m in \u001b[0;36mgetaddrinfo\u001b[1;34m(host, port, family, type, proto, flags)\u001b[0m\n\u001b[0;32m    917\u001b[0m     \u001b[0maddrlist\u001b[0m \u001b[1;33m=\u001b[0m \u001b[1;33m[\u001b[0m\u001b[1;33m]\u001b[0m\u001b[1;33m\u001b[0m\u001b[1;33m\u001b[0m\u001b[0m\n\u001b[1;32m--> 918\u001b[1;33m     \u001b[1;32mfor\u001b[0m \u001b[0mres\u001b[0m \u001b[1;32min\u001b[0m \u001b[0m_socket\u001b[0m\u001b[1;33m.\u001b[0m\u001b[0mgetaddrinfo\u001b[0m\u001b[1;33m(\u001b[0m\u001b[0mhost\u001b[0m\u001b[1;33m,\u001b[0m \u001b[0mport\u001b[0m\u001b[1;33m,\u001b[0m \u001b[0mfamily\u001b[0m\u001b[1;33m,\u001b[0m \u001b[0mtype\u001b[0m\u001b[1;33m,\u001b[0m \u001b[0mproto\u001b[0m\u001b[1;33m,\u001b[0m \u001b[0mflags\u001b[0m\u001b[1;33m)\u001b[0m\u001b[1;33m:\u001b[0m\u001b[1;33m\u001b[0m\u001b[1;33m\u001b[0m\u001b[0m\n\u001b[0m\u001b[0;32m    919\u001b[0m         \u001b[0maf\u001b[0m\u001b[1;33m,\u001b[0m \u001b[0msocktype\u001b[0m\u001b[1;33m,\u001b[0m \u001b[0mproto\u001b[0m\u001b[1;33m,\u001b[0m \u001b[0mcanonname\u001b[0m\u001b[1;33m,\u001b[0m \u001b[0msa\u001b[0m \u001b[1;33m=\u001b[0m \u001b[0mres\u001b[0m\u001b[1;33m\u001b[0m\u001b[1;33m\u001b[0m\u001b[0m\n",
      "\u001b[1;31mgaierror\u001b[0m: [Errno 11001] getaddrinfo failed",
      "\nDuring handling of the above exception, another exception occurred:\n",
      "\u001b[1;31mNewConnectionError\u001b[0m                    Traceback (most recent call last)",
      "\u001b[1;32m~\\Anaconda3\\envs\\quantum\\lib\\site-packages\\urllib3\\connectionpool.py\u001b[0m in \u001b[0;36murlopen\u001b[1;34m(self, method, url, body, headers, retries, redirect, assert_same_host, timeout, pool_timeout, release_conn, chunked, body_pos, **response_kw)\u001b[0m\n\u001b[0;32m    664\u001b[0m             \u001b[1;31m# Make the request on the httplib connection object.\u001b[0m\u001b[1;33m\u001b[0m\u001b[1;33m\u001b[0m\u001b[1;33m\u001b[0m\u001b[0m\n\u001b[1;32m--> 665\u001b[1;33m             httplib_response = self._make_request(\n\u001b[0m\u001b[0;32m    666\u001b[0m                 \u001b[0mconn\u001b[0m\u001b[1;33m,\u001b[0m\u001b[1;33m\u001b[0m\u001b[1;33m\u001b[0m\u001b[0m\n",
      "\u001b[1;32m~\\Anaconda3\\envs\\quantum\\lib\\site-packages\\urllib3\\connectionpool.py\u001b[0m in \u001b[0;36m_make_request\u001b[1;34m(self, conn, method, url, timeout, chunked, **httplib_request_kw)\u001b[0m\n\u001b[0;32m    375\u001b[0m         \u001b[1;32mtry\u001b[0m\u001b[1;33m:\u001b[0m\u001b[1;33m\u001b[0m\u001b[1;33m\u001b[0m\u001b[0m\n\u001b[1;32m--> 376\u001b[1;33m             \u001b[0mself\u001b[0m\u001b[1;33m.\u001b[0m\u001b[0m_validate_conn\u001b[0m\u001b[1;33m(\u001b[0m\u001b[0mconn\u001b[0m\u001b[1;33m)\u001b[0m\u001b[1;33m\u001b[0m\u001b[1;33m\u001b[0m\u001b[0m\n\u001b[0m\u001b[0;32m    377\u001b[0m         \u001b[1;32mexcept\u001b[0m \u001b[1;33m(\u001b[0m\u001b[0mSocketTimeout\u001b[0m\u001b[1;33m,\u001b[0m \u001b[0mBaseSSLError\u001b[0m\u001b[1;33m)\u001b[0m \u001b[1;32mas\u001b[0m \u001b[0me\u001b[0m\u001b[1;33m:\u001b[0m\u001b[1;33m\u001b[0m\u001b[1;33m\u001b[0m\u001b[0m\n",
      "\u001b[1;32m~\\Anaconda3\\envs\\quantum\\lib\\site-packages\\urllib3\\connectionpool.py\u001b[0m in \u001b[0;36m_validate_conn\u001b[1;34m(self, conn)\u001b[0m\n\u001b[0;32m    993\u001b[0m         \u001b[1;32mif\u001b[0m \u001b[1;32mnot\u001b[0m \u001b[0mgetattr\u001b[0m\u001b[1;33m(\u001b[0m\u001b[0mconn\u001b[0m\u001b[1;33m,\u001b[0m \u001b[1;34m\"sock\"\u001b[0m\u001b[1;33m,\u001b[0m \u001b[1;32mNone\u001b[0m\u001b[1;33m)\u001b[0m\u001b[1;33m:\u001b[0m  \u001b[1;31m# AppEngine might not have  `.sock`\u001b[0m\u001b[1;33m\u001b[0m\u001b[1;33m\u001b[0m\u001b[0m\n\u001b[1;32m--> 994\u001b[1;33m             \u001b[0mconn\u001b[0m\u001b[1;33m.\u001b[0m\u001b[0mconnect\u001b[0m\u001b[1;33m(\u001b[0m\u001b[1;33m)\u001b[0m\u001b[1;33m\u001b[0m\u001b[1;33m\u001b[0m\u001b[0m\n\u001b[0m\u001b[0;32m    995\u001b[0m \u001b[1;33m\u001b[0m\u001b[0m\n",
      "\u001b[1;32m~\\Anaconda3\\envs\\quantum\\lib\\site-packages\\urllib3\\connection.py\u001b[0m in \u001b[0;36mconnect\u001b[1;34m(self)\u001b[0m\n\u001b[0;32m    299\u001b[0m         \u001b[1;31m# Add certificate verification\u001b[0m\u001b[1;33m\u001b[0m\u001b[1;33m\u001b[0m\u001b[1;33m\u001b[0m\u001b[0m\n\u001b[1;32m--> 300\u001b[1;33m         \u001b[0mconn\u001b[0m \u001b[1;33m=\u001b[0m \u001b[0mself\u001b[0m\u001b[1;33m.\u001b[0m\u001b[0m_new_conn\u001b[0m\u001b[1;33m(\u001b[0m\u001b[1;33m)\u001b[0m\u001b[1;33m\u001b[0m\u001b[1;33m\u001b[0m\u001b[0m\n\u001b[0m\u001b[0;32m    301\u001b[0m         \u001b[0mhostname\u001b[0m \u001b[1;33m=\u001b[0m \u001b[0mself\u001b[0m\u001b[1;33m.\u001b[0m\u001b[0mhost\u001b[0m\u001b[1;33m\u001b[0m\u001b[1;33m\u001b[0m\u001b[0m\n",
      "\u001b[1;32m~\\Anaconda3\\envs\\quantum\\lib\\site-packages\\urllib3\\connection.py\u001b[0m in \u001b[0;36m_new_conn\u001b[1;34m(self)\u001b[0m\n\u001b[0;32m    167\u001b[0m         \u001b[1;32mexcept\u001b[0m \u001b[0mSocketError\u001b[0m \u001b[1;32mas\u001b[0m \u001b[0me\u001b[0m\u001b[1;33m:\u001b[0m\u001b[1;33m\u001b[0m\u001b[1;33m\u001b[0m\u001b[0m\n\u001b[1;32m--> 168\u001b[1;33m             raise NewConnectionError(\n\u001b[0m\u001b[0;32m    169\u001b[0m                 \u001b[0mself\u001b[0m\u001b[1;33m,\u001b[0m \u001b[1;34m\"Failed to establish a new connection: %s\"\u001b[0m \u001b[1;33m%\u001b[0m \u001b[0me\u001b[0m\u001b[1;33m\u001b[0m\u001b[1;33m\u001b[0m\u001b[0m\n",
      "\u001b[1;31mNewConnectionError\u001b[0m: <urllib3.connection.VerifiedHTTPSConnection object at 0x00000171CD609AC0>: Failed to establish a new connection: [Errno 11001] getaddrinfo failed",
      "\nDuring handling of the above exception, another exception occurred:\n",
      "\u001b[1;31mMaxRetryError\u001b[0m                         Traceback (most recent call last)",
      "\u001b[1;32m~\\Anaconda3\\envs\\quantum\\lib\\site-packages\\requests\\adapters.py\u001b[0m in \u001b[0;36msend\u001b[1;34m(self, request, stream, timeout, verify, cert, proxies)\u001b[0m\n\u001b[0;32m    438\u001b[0m             \u001b[1;32mif\u001b[0m \u001b[1;32mnot\u001b[0m \u001b[0mchunked\u001b[0m\u001b[1;33m:\u001b[0m\u001b[1;33m\u001b[0m\u001b[1;33m\u001b[0m\u001b[0m\n\u001b[1;32m--> 439\u001b[1;33m                 resp = conn.urlopen(\n\u001b[0m\u001b[0;32m    440\u001b[0m                     \u001b[0mmethod\u001b[0m\u001b[1;33m=\u001b[0m\u001b[0mrequest\u001b[0m\u001b[1;33m.\u001b[0m\u001b[0mmethod\u001b[0m\u001b[1;33m,\u001b[0m\u001b[1;33m\u001b[0m\u001b[1;33m\u001b[0m\u001b[0m\n",
      "\u001b[1;32m~\\Anaconda3\\envs\\quantum\\lib\\site-packages\\urllib3\\connectionpool.py\u001b[0m in \u001b[0;36murlopen\u001b[1;34m(self, method, url, body, headers, retries, redirect, assert_same_host, timeout, pool_timeout, release_conn, chunked, body_pos, **response_kw)\u001b[0m\n\u001b[0;32m    746\u001b[0m             )\n\u001b[1;32m--> 747\u001b[1;33m             return self.urlopen(\n\u001b[0m\u001b[0;32m    748\u001b[0m                 \u001b[0mmethod\u001b[0m\u001b[1;33m,\u001b[0m\u001b[1;33m\u001b[0m\u001b[1;33m\u001b[0m\u001b[0m\n",
      "\u001b[1;32m~\\Anaconda3\\envs\\quantum\\lib\\site-packages\\urllib3\\connectionpool.py\u001b[0m in \u001b[0;36murlopen\u001b[1;34m(self, method, url, body, headers, retries, redirect, assert_same_host, timeout, pool_timeout, release_conn, chunked, body_pos, **response_kw)\u001b[0m\n\u001b[0;32m    746\u001b[0m             )\n\u001b[1;32m--> 747\u001b[1;33m             return self.urlopen(\n\u001b[0m\u001b[0;32m    748\u001b[0m                 \u001b[0mmethod\u001b[0m\u001b[1;33m,\u001b[0m\u001b[1;33m\u001b[0m\u001b[1;33m\u001b[0m\u001b[0m\n",
      "\u001b[1;32m~\\Anaconda3\\envs\\quantum\\lib\\site-packages\\urllib3\\connectionpool.py\u001b[0m in \u001b[0;36murlopen\u001b[1;34m(self, method, url, body, headers, retries, redirect, assert_same_host, timeout, pool_timeout, release_conn, chunked, body_pos, **response_kw)\u001b[0m\n\u001b[0;32m    746\u001b[0m             )\n\u001b[1;32m--> 747\u001b[1;33m             return self.urlopen(\n\u001b[0m\u001b[0;32m    748\u001b[0m                 \u001b[0mmethod\u001b[0m\u001b[1;33m,\u001b[0m\u001b[1;33m\u001b[0m\u001b[1;33m\u001b[0m\u001b[0m\n",
      "\u001b[1;32m~\\Anaconda3\\envs\\quantum\\lib\\site-packages\\urllib3\\connectionpool.py\u001b[0m in \u001b[0;36murlopen\u001b[1;34m(self, method, url, body, headers, retries, redirect, assert_same_host, timeout, pool_timeout, release_conn, chunked, body_pos, **response_kw)\u001b[0m\n\u001b[0;32m    718\u001b[0m \u001b[1;33m\u001b[0m\u001b[0m\n\u001b[1;32m--> 719\u001b[1;33m             retries = retries.increment(\n\u001b[0m\u001b[0;32m    720\u001b[0m                 \u001b[0mmethod\u001b[0m\u001b[1;33m,\u001b[0m \u001b[0murl\u001b[0m\u001b[1;33m,\u001b[0m \u001b[0merror\u001b[0m\u001b[1;33m=\u001b[0m\u001b[0me\u001b[0m\u001b[1;33m,\u001b[0m \u001b[0m_pool\u001b[0m\u001b[1;33m=\u001b[0m\u001b[0mself\u001b[0m\u001b[1;33m,\u001b[0m \u001b[0m_stacktrace\u001b[0m\u001b[1;33m=\u001b[0m\u001b[0msys\u001b[0m\u001b[1;33m.\u001b[0m\u001b[0mexc_info\u001b[0m\u001b[1;33m(\u001b[0m\u001b[1;33m)\u001b[0m\u001b[1;33m[\u001b[0m\u001b[1;36m2\u001b[0m\u001b[1;33m]\u001b[0m\u001b[1;33m\u001b[0m\u001b[1;33m\u001b[0m\u001b[0m\n",
      "\u001b[1;32m~\\Anaconda3\\envs\\quantum\\lib\\site-packages\\urllib3\\util\\retry.py\u001b[0m in \u001b[0;36mincrement\u001b[1;34m(self, method, url, response, error, _pool, _stacktrace)\u001b[0m\n\u001b[0;32m    435\u001b[0m         \u001b[1;32mif\u001b[0m \u001b[0mnew_retry\u001b[0m\u001b[1;33m.\u001b[0m\u001b[0mis_exhausted\u001b[0m\u001b[1;33m(\u001b[0m\u001b[1;33m)\u001b[0m\u001b[1;33m:\u001b[0m\u001b[1;33m\u001b[0m\u001b[1;33m\u001b[0m\u001b[0m\n\u001b[1;32m--> 436\u001b[1;33m             \u001b[1;32mraise\u001b[0m \u001b[0mMaxRetryError\u001b[0m\u001b[1;33m(\u001b[0m\u001b[0m_pool\u001b[0m\u001b[1;33m,\u001b[0m \u001b[0murl\u001b[0m\u001b[1;33m,\u001b[0m \u001b[0merror\u001b[0m \u001b[1;32mor\u001b[0m \u001b[0mResponseError\u001b[0m\u001b[1;33m(\u001b[0m\u001b[0mcause\u001b[0m\u001b[1;33m)\u001b[0m\u001b[1;33m)\u001b[0m\u001b[1;33m\u001b[0m\u001b[1;33m\u001b[0m\u001b[0m\n\u001b[0m\u001b[0;32m    437\u001b[0m \u001b[1;33m\u001b[0m\u001b[0m\n",
      "\u001b[1;31mMaxRetryError\u001b[0m: HTTPSConnectionPool(host='api.quantum-computing.ibm.com', port=443): Max retries exceeded with url: /api/Network/ibm-q/Groups/open/Projects/main/Jobs/5eadd2302d945a0011609ba8/status (Caused by NewConnectionError('<urllib3.connection.VerifiedHTTPSConnection object at 0x00000171CD609AC0>: Failed to establish a new connection: [Errno 11001] getaddrinfo failed'))",
      "\nDuring handling of the above exception, another exception occurred:\n",
      "\u001b[1;31mConnectionError\u001b[0m                       Traceback (most recent call last)",
      "\u001b[1;32m~\\Anaconda3\\envs\\quantum\\lib\\site-packages\\qiskit\\providers\\ibmq\\api\\session.py\u001b[0m in \u001b[0;36mrequest\u001b[1;34m(self, method, url, bare, **kwargs)\u001b[0m\n\u001b[0;32m    218\u001b[0m         \u001b[1;32mtry\u001b[0m\u001b[1;33m:\u001b[0m\u001b[1;33m\u001b[0m\u001b[1;33m\u001b[0m\u001b[0m\n\u001b[1;32m--> 219\u001b[1;33m             \u001b[0mresponse\u001b[0m \u001b[1;33m=\u001b[0m \u001b[0msuper\u001b[0m\u001b[1;33m(\u001b[0m\u001b[1;33m)\u001b[0m\u001b[1;33m.\u001b[0m\u001b[0mrequest\u001b[0m\u001b[1;33m(\u001b[0m\u001b[0mmethod\u001b[0m\u001b[1;33m,\u001b[0m \u001b[0mfinal_url\u001b[0m\u001b[1;33m,\u001b[0m \u001b[1;33m**\u001b[0m\u001b[0mkwargs\u001b[0m\u001b[1;33m)\u001b[0m\u001b[1;33m\u001b[0m\u001b[1;33m\u001b[0m\u001b[0m\n\u001b[0m\u001b[0;32m    220\u001b[0m             \u001b[0mresponse\u001b[0m\u001b[1;33m.\u001b[0m\u001b[0mraise_for_status\u001b[0m\u001b[1;33m(\u001b[0m\u001b[1;33m)\u001b[0m\u001b[1;33m\u001b[0m\u001b[1;33m\u001b[0m\u001b[0m\n",
      "\u001b[1;32m~\\Anaconda3\\envs\\quantum\\lib\\site-packages\\requests\\sessions.py\u001b[0m in \u001b[0;36mrequest\u001b[1;34m(self, method, url, params, data, headers, cookies, files, auth, timeout, allow_redirects, proxies, hooks, stream, verify, cert, json)\u001b[0m\n\u001b[0;32m    529\u001b[0m         \u001b[0msend_kwargs\u001b[0m\u001b[1;33m.\u001b[0m\u001b[0mupdate\u001b[0m\u001b[1;33m(\u001b[0m\u001b[0msettings\u001b[0m\u001b[1;33m)\u001b[0m\u001b[1;33m\u001b[0m\u001b[1;33m\u001b[0m\u001b[0m\n\u001b[1;32m--> 530\u001b[1;33m         \u001b[0mresp\u001b[0m \u001b[1;33m=\u001b[0m \u001b[0mself\u001b[0m\u001b[1;33m.\u001b[0m\u001b[0msend\u001b[0m\u001b[1;33m(\u001b[0m\u001b[0mprep\u001b[0m\u001b[1;33m,\u001b[0m \u001b[1;33m**\u001b[0m\u001b[0msend_kwargs\u001b[0m\u001b[1;33m)\u001b[0m\u001b[1;33m\u001b[0m\u001b[1;33m\u001b[0m\u001b[0m\n\u001b[0m\u001b[0;32m    531\u001b[0m \u001b[1;33m\u001b[0m\u001b[0m\n",
      "\u001b[1;32m~\\Anaconda3\\envs\\quantum\\lib\\site-packages\\requests\\sessions.py\u001b[0m in \u001b[0;36msend\u001b[1;34m(self, request, **kwargs)\u001b[0m\n\u001b[0;32m    642\u001b[0m         \u001b[1;31m# Send the request\u001b[0m\u001b[1;33m\u001b[0m\u001b[1;33m\u001b[0m\u001b[1;33m\u001b[0m\u001b[0m\n\u001b[1;32m--> 643\u001b[1;33m         \u001b[0mr\u001b[0m \u001b[1;33m=\u001b[0m \u001b[0madapter\u001b[0m\u001b[1;33m.\u001b[0m\u001b[0msend\u001b[0m\u001b[1;33m(\u001b[0m\u001b[0mrequest\u001b[0m\u001b[1;33m,\u001b[0m \u001b[1;33m**\u001b[0m\u001b[0mkwargs\u001b[0m\u001b[1;33m)\u001b[0m\u001b[1;33m\u001b[0m\u001b[1;33m\u001b[0m\u001b[0m\n\u001b[0m\u001b[0;32m    644\u001b[0m \u001b[1;33m\u001b[0m\u001b[0m\n",
      "\u001b[1;32m~\\Anaconda3\\envs\\quantum\\lib\\site-packages\\requests\\adapters.py\u001b[0m in \u001b[0;36msend\u001b[1;34m(self, request, stream, timeout, verify, cert, proxies)\u001b[0m\n\u001b[0;32m    515\u001b[0m \u001b[1;33m\u001b[0m\u001b[0m\n\u001b[1;32m--> 516\u001b[1;33m             \u001b[1;32mraise\u001b[0m \u001b[0mConnectionError\u001b[0m\u001b[1;33m(\u001b[0m\u001b[0me\u001b[0m\u001b[1;33m,\u001b[0m \u001b[0mrequest\u001b[0m\u001b[1;33m=\u001b[0m\u001b[0mrequest\u001b[0m\u001b[1;33m)\u001b[0m\u001b[1;33m\u001b[0m\u001b[1;33m\u001b[0m\u001b[0m\n\u001b[0m\u001b[0;32m    517\u001b[0m \u001b[1;33m\u001b[0m\u001b[0m\n",
      "\u001b[1;31mConnectionError\u001b[0m: HTTPSConnectionPool(host='api.quantum-computing.ibm.com', port=443): Max retries exceeded with url: /api/Network/ibm-q/Groups/open/Projects/main/Jobs/5eadd2302d945a0011609ba8/status (Caused by NewConnectionError('<urllib3.connection.VerifiedHTTPSConnection object at 0x00000171CD609AC0>: Failed to establish a new connection: [Errno 11001] getaddrinfo failed'))",
      "\nThe above exception was the direct cause of the following exception:\n",
      "\u001b[1;31mRequestsApiError\u001b[0m                      Traceback (most recent call last)",
      "\u001b[1;32m~\\Anaconda3\\envs\\quantum\\lib\\site-packages\\qiskit\\providers\\ibmq\\job\\utils.py\u001b[0m in \u001b[0;36mapi_to_job_error\u001b[1;34m()\u001b[0m\n\u001b[0;32m     76\u001b[0m     \u001b[1;32mtry\u001b[0m\u001b[1;33m:\u001b[0m\u001b[1;33m\u001b[0m\u001b[1;33m\u001b[0m\u001b[0m\n\u001b[1;32m---> 77\u001b[1;33m         \u001b[1;32myield\u001b[0m\u001b[1;33m\u001b[0m\u001b[1;33m\u001b[0m\u001b[0m\n\u001b[0m\u001b[0;32m     78\u001b[0m     \u001b[1;32mexcept\u001b[0m \u001b[0mApiError\u001b[0m \u001b[1;32mas\u001b[0m \u001b[0mapi_err\u001b[0m\u001b[1;33m:\u001b[0m\u001b[1;33m\u001b[0m\u001b[1;33m\u001b[0m\u001b[0m\n",
      "\u001b[1;32m~\\Anaconda3\\envs\\quantum\\lib\\site-packages\\qiskit\\providers\\ibmq\\job\\ibmqjob.py\u001b[0m in \u001b[0;36mstatus\u001b[1;34m(self)\u001b[0m\n\u001b[0;32m    299\u001b[0m         \u001b[1;32mwith\u001b[0m \u001b[0mapi_to_job_error\u001b[0m\u001b[1;33m(\u001b[0m\u001b[1;33m)\u001b[0m\u001b[1;33m:\u001b[0m\u001b[1;33m\u001b[0m\u001b[1;33m\u001b[0m\u001b[0m\n\u001b[1;32m--> 300\u001b[1;33m             \u001b[0mapi_response\u001b[0m \u001b[1;33m=\u001b[0m \u001b[0mself\u001b[0m\u001b[1;33m.\u001b[0m\u001b[0m_api\u001b[0m\u001b[1;33m.\u001b[0m\u001b[0mjob_status\u001b[0m\u001b[1;33m(\u001b[0m\u001b[0mself\u001b[0m\u001b[1;33m.\u001b[0m\u001b[0mjob_id\u001b[0m\u001b[1;33m(\u001b[0m\u001b[1;33m)\u001b[0m\u001b[1;33m)\u001b[0m\u001b[1;33m\u001b[0m\u001b[1;33m\u001b[0m\u001b[0m\n\u001b[0m\u001b[0;32m    301\u001b[0m             self._status, self._queue_info = self._get_status_position(\n",
      "\u001b[1;32m~\\Anaconda3\\envs\\quantum\\lib\\site-packages\\qiskit\\providers\\ibmq\\api\\clients\\account.py\u001b[0m in \u001b[0;36mjob_status\u001b[1;34m(self, job_id)\u001b[0m\n\u001b[0;32m    380\u001b[0m         \"\"\"\n\u001b[1;32m--> 381\u001b[1;33m         \u001b[1;32mreturn\u001b[0m \u001b[0mself\u001b[0m\u001b[1;33m.\u001b[0m\u001b[0mclient_api\u001b[0m\u001b[1;33m.\u001b[0m\u001b[0mjob\u001b[0m\u001b[1;33m(\u001b[0m\u001b[0mjob_id\u001b[0m\u001b[1;33m)\u001b[0m\u001b[1;33m.\u001b[0m\u001b[0mstatus\u001b[0m\u001b[1;33m(\u001b[0m\u001b[1;33m)\u001b[0m\u001b[1;33m\u001b[0m\u001b[1;33m\u001b[0m\u001b[0m\n\u001b[0m\u001b[0;32m    382\u001b[0m \u001b[1;33m\u001b[0m\u001b[0m\n",
      "\u001b[1;32m~\\Anaconda3\\envs\\quantum\\lib\\site-packages\\qiskit\\providers\\ibmq\\api\\rest\\job.py\u001b[0m in \u001b[0;36mstatus\u001b[1;34m(self)\u001b[0m\n\u001b[0;32m    135\u001b[0m         \u001b[0murl\u001b[0m \u001b[1;33m=\u001b[0m \u001b[0mself\u001b[0m\u001b[1;33m.\u001b[0m\u001b[0mget_url\u001b[0m\u001b[1;33m(\u001b[0m\u001b[1;34m'status'\u001b[0m\u001b[1;33m)\u001b[0m\u001b[1;33m\u001b[0m\u001b[1;33m\u001b[0m\u001b[0m\n\u001b[1;32m--> 136\u001b[1;33m         \u001b[0mraw_response\u001b[0m \u001b[1;33m=\u001b[0m \u001b[0mself\u001b[0m\u001b[1;33m.\u001b[0m\u001b[0msession\u001b[0m\u001b[1;33m.\u001b[0m\u001b[0mget\u001b[0m\u001b[1;33m(\u001b[0m\u001b[0murl\u001b[0m\u001b[1;33m)\u001b[0m\u001b[1;33m\u001b[0m\u001b[1;33m\u001b[0m\u001b[0m\n\u001b[0m\u001b[0;32m    137\u001b[0m         \u001b[1;32mtry\u001b[0m\u001b[1;33m:\u001b[0m\u001b[1;33m\u001b[0m\u001b[1;33m\u001b[0m\u001b[0m\n",
      "\u001b[1;32m~\\Anaconda3\\envs\\quantum\\lib\\site-packages\\requests\\sessions.py\u001b[0m in \u001b[0;36mget\u001b[1;34m(self, url, **kwargs)\u001b[0m\n\u001b[0;32m    542\u001b[0m         \u001b[0mkwargs\u001b[0m\u001b[1;33m.\u001b[0m\u001b[0msetdefault\u001b[0m\u001b[1;33m(\u001b[0m\u001b[1;34m'allow_redirects'\u001b[0m\u001b[1;33m,\u001b[0m \u001b[1;32mTrue\u001b[0m\u001b[1;33m)\u001b[0m\u001b[1;33m\u001b[0m\u001b[1;33m\u001b[0m\u001b[0m\n\u001b[1;32m--> 543\u001b[1;33m         \u001b[1;32mreturn\u001b[0m \u001b[0mself\u001b[0m\u001b[1;33m.\u001b[0m\u001b[0mrequest\u001b[0m\u001b[1;33m(\u001b[0m\u001b[1;34m'GET'\u001b[0m\u001b[1;33m,\u001b[0m \u001b[0murl\u001b[0m\u001b[1;33m,\u001b[0m \u001b[1;33m**\u001b[0m\u001b[0mkwargs\u001b[0m\u001b[1;33m)\u001b[0m\u001b[1;33m\u001b[0m\u001b[1;33m\u001b[0m\u001b[0m\n\u001b[0m\u001b[0;32m    544\u001b[0m \u001b[1;33m\u001b[0m\u001b[0m\n",
      "\u001b[1;32m~\\Anaconda3\\envs\\quantum\\lib\\site-packages\\qiskit\\providers\\ibmq\\api\\session.py\u001b[0m in \u001b[0;36mrequest\u001b[1;34m(self, method, url, bare, **kwargs)\u001b[0m\n\u001b[0;32m    238\u001b[0m \u001b[1;33m\u001b[0m\u001b[0m\n\u001b[1;32m--> 239\u001b[1;33m             \u001b[1;32mraise\u001b[0m \u001b[0mRequestsApiError\u001b[0m\u001b[1;33m(\u001b[0m\u001b[0mmessage\u001b[0m\u001b[1;33m)\u001b[0m \u001b[1;32mfrom\u001b[0m \u001b[0mex\u001b[0m\u001b[1;33m\u001b[0m\u001b[1;33m\u001b[0m\u001b[0m\n\u001b[0m\u001b[0;32m    240\u001b[0m \u001b[1;33m\u001b[0m\u001b[0m\n",
      "\u001b[1;31mRequestsApiError\u001b[0m: \"HTTPSConnectionPool(host='api.quantum-computing.ibm.com', port=443): Max retries exceeded with url: /api/Network/ibm-q/Groups/open/Projects/main/Jobs/5eadd2302d945a0011609ba8/status (Caused by NewConnectionError('<urllib3.connection.VerifiedHTTPSConnection object at 0x00000171CD609AC0>: Failed to establish a new connection: [Errno 11001] getaddrinfo failed'))\"",
      "\nDuring handling of the above exception, another exception occurred:\n",
      "\u001b[1;31mIBMQJobApiError\u001b[0m                       Traceback (most recent call last)",
      "\u001b[1;32m<ipython-input-7-9c4e407c5749>\u001b[0m in \u001b[0;36m<module>\u001b[1;34m\u001b[0m\n\u001b[0;32m      5\u001b[0m     \u001b[1;32mfor\u001b[0m \u001b[0maxis\u001b[0m \u001b[1;32min\u001b[0m \u001b[1;33m[\u001b[0m\u001b[1;32mTrue\u001b[0m\u001b[1;33m,\u001b[0m \u001b[1;32mFalse\u001b[0m\u001b[1;33m]\u001b[0m\u001b[1;33m:\u001b[0m\u001b[1;33m\u001b[0m\u001b[1;33m\u001b[0m\u001b[0m\n\u001b[0;32m      6\u001b[0m         \u001b[1;31m#Add to dataframe\u001b[0m\u001b[1;33m\u001b[0m\u001b[1;33m\u001b[0m\u001b[1;33m\u001b[0m\u001b[0m\n\u001b[1;32m----> 7\u001b[1;33m         \u001b[0mdataframe\u001b[0m\u001b[1;33m.\u001b[0m\u001b[0mloc\u001b[0m\u001b[1;33m[\u001b[0m\u001b[0mx\u001b[0m\u001b[1;33m]\u001b[0m \u001b[1;33m=\u001b[0m \u001b[0mmultible_fidelity\u001b[0m\u001b[1;33m(\u001b[0m\u001b[0maxis\u001b[0m\u001b[1;33m,\u001b[0m \u001b[0mpi\u001b[0m\u001b[1;33m/\u001b[0m\u001b[1;36m2\u001b[0m\u001b[1;33m,\u001b[0m \u001b[0mcomp\u001b[0m\u001b[1;33m,\u001b[0m \u001b[1;36m5000\u001b[0m\u001b[1;33m,\u001b[0m \u001b[1;36m5\u001b[0m\u001b[1;33m)\u001b[0m\u001b[1;33m\u001b[0m\u001b[1;33m\u001b[0m\u001b[0m\n\u001b[0m\u001b[0;32m      8\u001b[0m         \u001b[0mx\u001b[0m \u001b[1;33m+=\u001b[0m \u001b[1;36m1\u001b[0m\u001b[1;33m\u001b[0m\u001b[1;33m\u001b[0m\u001b[0m\n\u001b[0;32m      9\u001b[0m \u001b[1;33m\u001b[0m\u001b[0m\n",
      "\u001b[1;32m<ipython-input-4-ed74d02b2c92>\u001b[0m in \u001b[0;36mmultible_fidelity\u001b[1;34m(axis, rad, backend, shots, qubit_count)\u001b[0m\n\u001b[0;32m     42\u001b[0m         \u001b[0mprint\u001b[0m\u001b[1;33m(\u001b[0m\u001b[1;34m\"Job q[{}]:\"\u001b[0m\u001b[1;33m.\u001b[0m\u001b[0mformat\u001b[0m\u001b[1;33m(\u001b[0m\u001b[0mi\u001b[0m\u001b[1;33m)\u001b[0m\u001b[1;33m)\u001b[0m\u001b[1;33m\u001b[0m\u001b[1;33m\u001b[0m\u001b[0m\n\u001b[0;32m     43\u001b[0m         \u001b[0mjob\u001b[0m \u001b[1;33m=\u001b[0m \u001b[0mexecute\u001b[0m\u001b[1;33m(\u001b[0m\u001b[0mstate_tomo\u001b[0m\u001b[1;33m,\u001b[0m \u001b[0mbackend\u001b[0m \u001b[1;33m=\u001b[0m \u001b[0mqcomp\u001b[0m\u001b[1;33m,\u001b[0m \u001b[0mshots\u001b[0m \u001b[1;33m=\u001b[0m \u001b[0mshots\u001b[0m\u001b[1;33m)\u001b[0m\u001b[1;33m\u001b[0m\u001b[1;33m\u001b[0m\u001b[0m\n\u001b[1;32m---> 44\u001b[1;33m         \u001b[0mjob_monitor\u001b[0m\u001b[1;33m(\u001b[0m\u001b[0mjob\u001b[0m\u001b[1;33m)\u001b[0m\u001b[1;33m\u001b[0m\u001b[1;33m\u001b[0m\u001b[0m\n\u001b[0m\u001b[0;32m     45\u001b[0m         \u001b[0mresult\u001b[0m \u001b[1;33m=\u001b[0m \u001b[0mjob\u001b[0m\u001b[1;33m.\u001b[0m\u001b[0mresult\u001b[0m\u001b[1;33m(\u001b[0m\u001b[1;33m)\u001b[0m\u001b[1;33m\u001b[0m\u001b[1;33m\u001b[0m\u001b[0m\n\u001b[0;32m     46\u001b[0m \u001b[1;33m\u001b[0m\u001b[0m\n",
      "\u001b[1;32m~\\Anaconda3\\envs\\quantum\\lib\\site-packages\\qiskit\\tools\\monitor\\job_monitor.py\u001b[0m in \u001b[0;36mjob_monitor\u001b[1;34m(job, interval, quiet, output)\u001b[0m\n\u001b[0;32m     83\u001b[0m         \u001b[0m_interval_set\u001b[0m \u001b[1;33m=\u001b[0m \u001b[1;32mTrue\u001b[0m\u001b[1;33m\u001b[0m\u001b[1;33m\u001b[0m\u001b[0m\n\u001b[0;32m     84\u001b[0m \u001b[1;33m\u001b[0m\u001b[0m\n\u001b[1;32m---> 85\u001b[1;33m     _text_checker(job, interval, _interval_set,\n\u001b[0m\u001b[0;32m     86\u001b[0m                   quiet=quiet, output=output)\n",
      "\u001b[1;32m~\\Anaconda3\\envs\\quantum\\lib\\site-packages\\qiskit\\tools\\monitor\\job_monitor.py\u001b[0m in \u001b[0;36m_text_checker\u001b[1;34m(job, interval, _interval_set, quiet, output)\u001b[0m\n\u001b[0;32m     41\u001b[0m     \u001b[1;32mwhile\u001b[0m \u001b[0mstatus\u001b[0m\u001b[1;33m.\u001b[0m\u001b[0mname\u001b[0m \u001b[1;32mnot\u001b[0m \u001b[1;32min\u001b[0m \u001b[1;33m[\u001b[0m\u001b[1;34m'DONE'\u001b[0m\u001b[1;33m,\u001b[0m \u001b[1;34m'CANCELLED'\u001b[0m\u001b[1;33m,\u001b[0m \u001b[1;34m'ERROR'\u001b[0m\u001b[1;33m]\u001b[0m\u001b[1;33m:\u001b[0m\u001b[1;33m\u001b[0m\u001b[1;33m\u001b[0m\u001b[0m\n\u001b[0;32m     42\u001b[0m         \u001b[0mtime\u001b[0m\u001b[1;33m.\u001b[0m\u001b[0msleep\u001b[0m\u001b[1;33m(\u001b[0m\u001b[0minterval\u001b[0m\u001b[1;33m)\u001b[0m\u001b[1;33m\u001b[0m\u001b[1;33m\u001b[0m\u001b[0m\n\u001b[1;32m---> 43\u001b[1;33m         \u001b[0mstatus\u001b[0m \u001b[1;33m=\u001b[0m \u001b[0mjob\u001b[0m\u001b[1;33m.\u001b[0m\u001b[0mstatus\u001b[0m\u001b[1;33m(\u001b[0m\u001b[1;33m)\u001b[0m\u001b[1;33m\u001b[0m\u001b[1;33m\u001b[0m\u001b[0m\n\u001b[0m\u001b[0;32m     44\u001b[0m         \u001b[0mmsg\u001b[0m \u001b[1;33m=\u001b[0m \u001b[0mstatus\u001b[0m\u001b[1;33m.\u001b[0m\u001b[0mvalue\u001b[0m\u001b[1;33m\u001b[0m\u001b[1;33m\u001b[0m\u001b[0m\n\u001b[0;32m     45\u001b[0m \u001b[1;33m\u001b[0m\u001b[0m\n",
      "\u001b[1;32m~\\Anaconda3\\envs\\quantum\\lib\\site-packages\\qiskit\\providers\\ibmq\\job\\ibmqjob.py\u001b[0m in \u001b[0;36mstatus\u001b[1;34m(self)\u001b[0m\n\u001b[0;32m    299\u001b[0m         \u001b[1;32mwith\u001b[0m \u001b[0mapi_to_job_error\u001b[0m\u001b[1;33m(\u001b[0m\u001b[1;33m)\u001b[0m\u001b[1;33m:\u001b[0m\u001b[1;33m\u001b[0m\u001b[1;33m\u001b[0m\u001b[0m\n\u001b[0;32m    300\u001b[0m             \u001b[0mapi_response\u001b[0m \u001b[1;33m=\u001b[0m \u001b[0mself\u001b[0m\u001b[1;33m.\u001b[0m\u001b[0m_api\u001b[0m\u001b[1;33m.\u001b[0m\u001b[0mjob_status\u001b[0m\u001b[1;33m(\u001b[0m\u001b[0mself\u001b[0m\u001b[1;33m.\u001b[0m\u001b[0mjob_id\u001b[0m\u001b[1;33m(\u001b[0m\u001b[1;33m)\u001b[0m\u001b[1;33m)\u001b[0m\u001b[1;33m\u001b[0m\u001b[1;33m\u001b[0m\u001b[0m\n\u001b[1;32m--> 301\u001b[1;33m             self._status, self._queue_info = self._get_status_position(\n\u001b[0m\u001b[0;32m    302\u001b[0m                 ApiJobStatus(api_response['status']), api_response.get('infoQueue', None))\n\u001b[0;32m    303\u001b[0m \u001b[1;33m\u001b[0m\u001b[0m\n",
      "\u001b[1;32m~\\Anaconda3\\envs\\quantum\\lib\\contextlib.py\u001b[0m in \u001b[0;36m__exit__\u001b[1;34m(self, type, value, traceback)\u001b[0m\n\u001b[0;32m    129\u001b[0m                 \u001b[0mvalue\u001b[0m \u001b[1;33m=\u001b[0m \u001b[0mtype\u001b[0m\u001b[1;33m(\u001b[0m\u001b[1;33m)\u001b[0m\u001b[1;33m\u001b[0m\u001b[1;33m\u001b[0m\u001b[0m\n\u001b[0;32m    130\u001b[0m             \u001b[1;32mtry\u001b[0m\u001b[1;33m:\u001b[0m\u001b[1;33m\u001b[0m\u001b[1;33m\u001b[0m\u001b[0m\n\u001b[1;32m--> 131\u001b[1;33m                 \u001b[0mself\u001b[0m\u001b[1;33m.\u001b[0m\u001b[0mgen\u001b[0m\u001b[1;33m.\u001b[0m\u001b[0mthrow\u001b[0m\u001b[1;33m(\u001b[0m\u001b[0mtype\u001b[0m\u001b[1;33m,\u001b[0m \u001b[0mvalue\u001b[0m\u001b[1;33m,\u001b[0m \u001b[0mtraceback\u001b[0m\u001b[1;33m)\u001b[0m\u001b[1;33m\u001b[0m\u001b[1;33m\u001b[0m\u001b[0m\n\u001b[0m\u001b[0;32m    132\u001b[0m             \u001b[1;32mexcept\u001b[0m \u001b[0mStopIteration\u001b[0m \u001b[1;32mas\u001b[0m \u001b[0mexc\u001b[0m\u001b[1;33m:\u001b[0m\u001b[1;33m\u001b[0m\u001b[1;33m\u001b[0m\u001b[0m\n\u001b[0;32m    133\u001b[0m                 \u001b[1;31m# Suppress StopIteration *unless* it's the same exception that\u001b[0m\u001b[1;33m\u001b[0m\u001b[1;33m\u001b[0m\u001b[1;33m\u001b[0m\u001b[0m\n",
      "\u001b[1;32m~\\Anaconda3\\envs\\quantum\\lib\\site-packages\\qiskit\\providers\\ibmq\\job\\utils.py\u001b[0m in \u001b[0;36mapi_to_job_error\u001b[1;34m()\u001b[0m\n\u001b[0;32m     77\u001b[0m         \u001b[1;32myield\u001b[0m\u001b[1;33m\u001b[0m\u001b[1;33m\u001b[0m\u001b[0m\n\u001b[0;32m     78\u001b[0m     \u001b[1;32mexcept\u001b[0m \u001b[0mApiError\u001b[0m \u001b[1;32mas\u001b[0m \u001b[0mapi_err\u001b[0m\u001b[1;33m:\u001b[0m\u001b[1;33m\u001b[0m\u001b[1;33m\u001b[0m\u001b[0m\n\u001b[1;32m---> 79\u001b[1;33m         \u001b[1;32mraise\u001b[0m \u001b[0mIBMQJobApiError\u001b[0m\u001b[1;33m(\u001b[0m\u001b[0mstr\u001b[0m\u001b[1;33m(\u001b[0m\u001b[0mapi_err\u001b[0m\u001b[1;33m)\u001b[0m\u001b[1;33m)\u001b[0m\u001b[1;33m\u001b[0m\u001b[1;33m\u001b[0m\u001b[0m\n\u001b[0m",
      "\u001b[1;31mIBMQJobApiError\u001b[0m: '\"HTTPSConnectionPool(host=\\'api.quantum-computing.ibm.com\\', port=443): Max retries exceeded with url: /api/Network/ibm-q/Groups/open/Projects/main/Jobs/5eadd2302d945a0011609ba8/status (Caused by NewConnectionError(\\'<urllib3.connection.VerifiedHTTPSConnection object at 0x00000171CD609AC0>: Failed to establish a new connection: [Errno 11001] getaddrinfo failed\\'))\"'"
     ]
    }
   ],
   "source": [
    "#pandas dataframe\n",
    "x = 0\n",
    "for comp in [ \"ibmq_rome\", \"ibmq_essex\", \"ibmqx2\", \n",
    "             \"ibmq_burlington\", \"ibmq_ourense\", \"ibmq_london\", \"ibmq_vigo\"]:\n",
    "    for axis in [True, False]:\n",
    "        #Add to dataframe\n",
    "        dataframe.loc[x] = multible_fidelity(axis, pi/2, comp, 5000, 5)\n",
    "        x += 1\n",
    "    "
   ]
  },
  {
   "cell_type": "code",
   "execution_count": 8,
   "metadata": {},
   "outputs": [
    {
     "data": {
      "text/html": [
       "<div>\n",
       "<style scoped>\n",
       "    .dataframe tbody tr th:only-of-type {\n",
       "        vertical-align: middle;\n",
       "    }\n",
       "\n",
       "    .dataframe tbody tr th {\n",
       "        vertical-align: top;\n",
       "    }\n",
       "\n",
       "    .dataframe thead th {\n",
       "        text-align: right;\n",
       "    }\n",
       "</style>\n",
       "<table border=\"1\" class=\"dataframe\">\n",
       "  <thead>\n",
       "    <tr style=\"text-align: right;\">\n",
       "      <th></th>\n",
       "      <th>name</th>\n",
       "      <th>q0</th>\n",
       "      <th>q1</th>\n",
       "      <th>q2</th>\n",
       "      <th>q3</th>\n",
       "      <th>q4</th>\n",
       "    </tr>\n",
       "  </thead>\n",
       "  <tbody>\n",
       "    <tr>\n",
       "      <th>0</th>\n",
       "      <td>Computer: ibmq_rome X-axis</td>\n",
       "      <td>0.951600</td>\n",
       "      <td>0.9416</td>\n",
       "      <td>0.9194</td>\n",
       "      <td>0.9448</td>\n",
       "      <td>0.9484</td>\n",
       "    </tr>\n",
       "    <tr>\n",
       "      <th>1</th>\n",
       "      <td>Computer: ibmq_rome Y-axis</td>\n",
       "      <td>0.992800</td>\n",
       "      <td>0.9788</td>\n",
       "      <td>0.9660</td>\n",
       "      <td>0.9712</td>\n",
       "      <td>0.9934</td>\n",
       "    </tr>\n",
       "    <tr>\n",
       "      <th>2</th>\n",
       "      <td>Computer: ibmq_essex X-axis</td>\n",
       "      <td>0.944800</td>\n",
       "      <td>0.8358</td>\n",
       "      <td>0.9432</td>\n",
       "      <td>0.9306</td>\n",
       "      <td>0.9614</td>\n",
       "    </tr>\n",
       "    <tr>\n",
       "      <th>3</th>\n",
       "      <td>Computer: ibmq_essex Y-axis</td>\n",
       "      <td>0.745200</td>\n",
       "      <td>0.8452</td>\n",
       "      <td>0.9598</td>\n",
       "      <td>0.9648</td>\n",
       "      <td>0.9894</td>\n",
       "    </tr>\n",
       "    <tr>\n",
       "      <th>4</th>\n",
       "      <td>Computer: ibmqx2 X-axis</td>\n",
       "      <td>0.958419</td>\n",
       "      <td>0.9466</td>\n",
       "      <td>0.6852</td>\n",
       "      <td>0.9820</td>\n",
       "      <td>0.9624</td>\n",
       "    </tr>\n",
       "    <tr>\n",
       "      <th>5</th>\n",
       "      <td>Computer: ibmqx2 Y-axis</td>\n",
       "      <td>0.713600</td>\n",
       "      <td>0.9184</td>\n",
       "      <td>0.6916</td>\n",
       "      <td>0.9614</td>\n",
       "      <td>0.9878</td>\n",
       "    </tr>\n",
       "    <tr>\n",
       "      <th>6</th>\n",
       "      <td>Computer: ibmq_burlington X-axis</td>\n",
       "      <td>0.783200</td>\n",
       "      <td>0.8284</td>\n",
       "      <td>0.9484</td>\n",
       "      <td>0.9090</td>\n",
       "      <td>0.9536</td>\n",
       "    </tr>\n",
       "    <tr>\n",
       "      <th>7</th>\n",
       "      <td>Computer: ibmq_burlington Y-axis</td>\n",
       "      <td>0.901600</td>\n",
       "      <td>0.8088</td>\n",
       "      <td>0.9838</td>\n",
       "      <td>0.9554</td>\n",
       "      <td>0.9752</td>\n",
       "    </tr>\n",
       "    <tr>\n",
       "      <th>8</th>\n",
       "      <td>Computer: ibmq_ourense X-axis</td>\n",
       "      <td>0.960200</td>\n",
       "      <td>0.9662</td>\n",
       "      <td>0.9712</td>\n",
       "      <td>0.8812</td>\n",
       "      <td>0.8658</td>\n",
       "    </tr>\n",
       "    <tr>\n",
       "      <th>9</th>\n",
       "      <td>Computer: ibmq_ourense Y-axis</td>\n",
       "      <td>0.987000</td>\n",
       "      <td>0.9748</td>\n",
       "      <td>0.9878</td>\n",
       "      <td>0.9380</td>\n",
       "      <td>0.8852</td>\n",
       "    </tr>\n",
       "    <tr>\n",
       "      <th>10</th>\n",
       "      <td>Computer: ibmq_london X-axis</td>\n",
       "      <td>0.928600</td>\n",
       "      <td>0.9218</td>\n",
       "      <td>0.9104</td>\n",
       "      <td>0.9176</td>\n",
       "      <td>0.9394</td>\n",
       "    </tr>\n",
       "    <tr>\n",
       "      <th>11</th>\n",
       "      <td>Computer: ibmq_london Y-axis</td>\n",
       "      <td>0.996000</td>\n",
       "      <td>0.9880</td>\n",
       "      <td>0.9756</td>\n",
       "      <td>0.9916</td>\n",
       "      <td>0.9946</td>\n",
       "    </tr>\n",
       "    <tr>\n",
       "      <th>12</th>\n",
       "      <td>Computer: ibmq_vigo X-axis</td>\n",
       "      <td>0.968000</td>\n",
       "      <td>0.8708</td>\n",
       "      <td>0.9420</td>\n",
       "      <td>0.9652</td>\n",
       "      <td>0.9722</td>\n",
       "    </tr>\n",
       "  </tbody>\n",
       "</table>\n",
       "</div>"
      ],
      "text/plain": [
       "                                name        q0      q1      q2      q3      q4\n",
       "0         Computer: ibmq_rome X-axis  0.951600  0.9416  0.9194  0.9448  0.9484\n",
       "1         Computer: ibmq_rome Y-axis  0.992800  0.9788  0.9660  0.9712  0.9934\n",
       "2        Computer: ibmq_essex X-axis  0.944800  0.8358  0.9432  0.9306  0.9614\n",
       "3        Computer: ibmq_essex Y-axis  0.745200  0.8452  0.9598  0.9648  0.9894\n",
       "4            Computer: ibmqx2 X-axis  0.958419  0.9466  0.6852  0.9820  0.9624\n",
       "5            Computer: ibmqx2 Y-axis  0.713600  0.9184  0.6916  0.9614  0.9878\n",
       "6   Computer: ibmq_burlington X-axis  0.783200  0.8284  0.9484  0.9090  0.9536\n",
       "7   Computer: ibmq_burlington Y-axis  0.901600  0.8088  0.9838  0.9554  0.9752\n",
       "8      Computer: ibmq_ourense X-axis  0.960200  0.9662  0.9712  0.8812  0.8658\n",
       "9      Computer: ibmq_ourense Y-axis  0.987000  0.9748  0.9878  0.9380  0.8852\n",
       "10      Computer: ibmq_london X-axis  0.928600  0.9218  0.9104  0.9176  0.9394\n",
       "11      Computer: ibmq_london Y-axis  0.996000  0.9880  0.9756  0.9916  0.9946\n",
       "12        Computer: ibmq_vigo X-axis  0.968000  0.8708  0.9420  0.9652  0.9722"
      ]
     },
     "execution_count": 8,
     "metadata": {},
     "output_type": "execute_result"
    }
   ],
   "source": [
    "dataframe"
   ]
  },
  {
   "cell_type": "markdown",
   "metadata": {},
   "source": [
    "\n",
    "0\tComputer: ibmq_rome X-axis\t0.951600\t0.9416\t0.9194\t0.9448\t0.9484\n",
    "1\tComputer: ibmq_rome Y-axis\t0.992800\t0.9788\t0.9660\t0.9712\t0.9934\n",
    "2\tComputer: ibmq_essex X-axis\t0.944800\t0.8358\t0.9432\t0.9306\t0.9614\n",
    "3\tComputer: ibmq_essex Y-axis\t0.745200\t0.8452\t0.9598\t0.9648\t0.9894\n",
    "4\tComputer: ibmqx2 X-axis\t0.958419\t0.9466\t0.6852\t0.9820\t0.9624\n",
    "5\tComputer: ibmqx2 Y-axis\t0.713600\t0.9184\t0.6916\t0.9614\t0.9878\n",
    "6\tComputer: ibmq_burlington X-axis\t0.783200\t0.8284\t0.9484\t0.9090\t0.9536\n",
    "7\tComputer: ibmq_burlington Y-axis\t0.901600\t0.8088\t0.9838\t0.9554\t0.9752\n",
    "8\tComputer: ibmq_ourense X-axis\t0.960200\t0.9662\t0.9712\t0.8812\t0.8658\n",
    "9\tComputer: ibmq_ourense Y-axis\t0.987000\t0.9748\t0.9878\t0.9380\t0.8852\n",
    "10\tComputer: ibmq_london X-axis\t0.928600\t0.9218\t0.9104\t0.9176\t0.9394\n",
    "11\tComputer: ibmq_london Y-axis\t0.996000\t0.9880\t0.9756\t0.9916\t0.9946\n",
    "12\tComputer: ibmq_vigo X-axis\t0.968000\t0.8708\t0.9420\t0.9652\t0.9722\n",
    "13  \n",
    "14  Computer: ibmq_athens X-axis 0.9452 0.938 0.968 0.9638 0.9518\n",
    "15  'Computer: ibmq_athens Y-axis', 0.9949999999999981, 0.9959999999999983, 0.9954000000000005, 0.9961999999999986, 0.9934000000000004"
   ]
  },
  {
   "cell_type": "markdown",
   "metadata": {},
   "source": [
    "\n",
    "1\tComputer: ibmq_rome Y-axis\t0.992800\t0.9788\t0.9660\t0.9712\t0.9934\n",
    "\n",
    "3\tComputer: ibmq_essex Y-axis\t0.745200\t0.8452\t0.9598\t0.9648\t0.9894\n",
    "\n",
    "5\tComputer: ibmqx2 Y-axis\t0.713600\t0.9184\t0.6916\t0.9614\t0.9878\n",
    "\n",
    "7\tComputer: ibmq_burlington Y-axis\t0.901600\t0.8088\t0.9838\t0.9554\t0.9752\n",
    "\n",
    "9\tComputer: ibmq_ourense Y-axis\t0.987000\t0.9748\t0.9878\t0.9380\t0.8852\n",
    "\n",
    "11\tComputer: ibmq_london Y-axis\t0.996000\t0.9880\t0.9756\t0.9916\t0.9946\n",
    "\n",
    "\n",
    "\n",
    "\n",
    "12\tComputer: ibmq_vigo X-axis\t0.968000\t0.8708\t0.9420\t0.9652\t0.9722\n",
    "13  Computer: ibmq_athens X-axis 0.9452 0.938 0.968 0.9638 0.9518"
   ]
  },
  {
   "cell_type": "code",
   "execution_count": 25,
   "metadata": {},
   "outputs": [
    {
     "name": "stdout",
     "output_type": "stream",
     "text": [
      "Job Status: job has successfully run\n",
      "[[0.5302+0.j    0.0154+0.448j]\n",
      " [0.0154-0.448j 0.4698+0.j   ]]\n",
      "0.9480000000000005\n",
      "Job Status: job has successfully run\n",
      "[[0.538+0.j     0.046+0.4374j]\n",
      " [0.046-0.4374j 0.462+0.j    ]]\n",
      "0.9374000000000001\n",
      "Job Status: job has successfully run\n",
      "[[0.5886+0.j     0.0786+0.4256j]\n",
      " [0.0786-0.4256j 0.4114+0.j    ]]\n",
      "0.9256\n",
      "Job Status: job has successfully run\n",
      "[[0.5384+0.j     0.0382+0.4482j]\n",
      " [0.0382-0.4482j 0.4616+0.j    ]]\n",
      "0.9482000000000004\n",
      "Job Status: job has successfully run\n",
      "[[0.5412+0.j     0.0734+0.3996j]\n",
      " [0.0734-0.3996j 0.4588+0.j    ]]\n",
      "0.8996000000000004\n"
     ]
    }
   ],
   "source": [
    "#Mitme kvantbitti test\n",
    "\n",
    "qr = QuantumRegister(5)\n",
    "circuit = QuantumCircuit(qr)\n",
    "\n",
    "circuit.rx(pi/2, qr[0])\n",
    "circuit.rx(pi/2, qr[1])\n",
    "circuit.rx(pi/2, qr[2])\n",
    "circuit.rx(pi/2, qr[3])\n",
    "circuit.rx(pi/2, qr[4])\n",
    "\n",
    "for i in range(5):\n",
    "    state_tomo = state_tomography_circuits(circuit, qr[i])\n",
    "\n",
    "    provider = IBMQ.get_provider(\"ibm-q\")\n",
    "    qcomp = provider.get_backend(\"ibmq_london\")\n",
    "\n",
    "    job = execute(state_tomo, backend = qcomp, shots = 5000)\n",
    "    job_monitor(job)\n",
    "    result = job.result()\n",
    "\n",
    "    fitter = StateTomographyFitter(result, state_tomo)\n",
    "    density_matrix = fitter.fit()\n",
    "    fidelity = state_fidelity(state_vec, density_matrix)\n",
    "\n",
    "    print(density_matrix)\n",
    "    print(fidelity)\n",
    "\n",
    "#state_tomo[0].draw(\"latex\")"
   ]
  },
  {
   "cell_type": "code",
   "execution_count": 21,
   "metadata": {},
   "outputs": [
    {
     "data": {
      "image/png": "[encoded data removed]",
      "text/plain": [
       "<PIL.Image.Image image mode=RGB size=569x230 at 0x143FAE6BDC0>"
      ]
     },
     "execution_count": 21,
     "metadata": {},
     "output_type": "execute_result"
    }
   ],
   "source": [
    "state_tomo[0].draw(\"latex\")"
   ]
  },
  {
   "cell_type": "code",
   "execution_count": 24,
   "metadata": {},
   "outputs": [
    {
     "data": {
      "image/png": "[encoded data removed]",
      "text/plain": [
       "<PIL.Image.Image image mode=RGB size=658x230 at 0x143F8B19BE0>"
      ]
     },
     "execution_count": 24,
     "metadata": {},
     "output_type": "execute_result"
    }
   ],
   "source": [
    "state_tomo[1].draw(\"latex\")"
   ]
  },
  {
   "cell_type": "code",
   "execution_count": 22,
   "metadata": {},
   "outputs": [
    {
     "data": {
      "image/png": "[encoded data removed]",
      "text/plain": [
       "<PIL.Image.Image image mode=RGB size=487x230 at 0x143FAE35C40>"
      ]
     },
     "execution_count": 22,
     "metadata": {},
     "output_type": "execute_result"
    }
   ],
   "source": [
    "state_tomo[2].draw(\"latex\")"
   ]
  },
  {
   "cell_type": "code",
   "execution_count": 23,
   "metadata": {},
   "outputs": [
    {
     "ename": "IndexError",
     "evalue": "list index out of range",
     "output_type": "error",
     "traceback": [
      "\u001b[1;31m------------------------------------------------------------------------\u001b[0m",
      "\u001b[1;31mIndexError\u001b[0m                             Traceback (most recent call last)",
      "\u001b[1;32m<ipython-input-23-86901c301dfc>\u001b[0m in \u001b[0;36m<module>\u001b[1;34m\u001b[0m\n\u001b[1;32m----> 1\u001b[1;33m \u001b[0mstate_tomo\u001b[0m\u001b[1;33m[\u001b[0m\u001b[1;36m3\u001b[0m\u001b[1;33m]\u001b[0m\u001b[1;33m.\u001b[0m\u001b[0mdraw\u001b[0m\u001b[1;33m(\u001b[0m\u001b[1;34m\"latex\"\u001b[0m\u001b[1;33m)\u001b[0m\u001b[1;33m\u001b[0m\u001b[1;33m\u001b[0m\u001b[0m\n\u001b[0m",
      "\u001b[1;31mIndexError\u001b[0m: list index out of range"
     ]
    }
   ],
   "source": [
    "state_tomo[3].draw(\"latex\")"
   ]
  },
  {
   "cell_type": "code",
   "execution_count": 4,
   "metadata": {},
   "outputs": [
    {
     "name": "stdout",
     "output_type": "stream",
     "text": [
      "Job Status: job has successfully run\n",
      "Fidelity: 0.9368\n",
      "Density matrix:\n",
      "[[0.5276+0.j     0.015 +0.4368j]\n",
      " [0.015 -0.4368j 0.4724+0.j    ]]\n"
     ]
    }
   ],
   "source": [
    "#Test\n",
    "results = measure_fidelity(True, pi/2, \"ibmq_london\", 5000)\n",
    "print(\"Fidelity: {}\".format(results[0]))\n",
    "print(\"Density matrix:\")\n",
    "print(results[4])"
   ]
  },
  {
   "cell_type": "code",
   "execution_count": 5,
   "metadata": {},
   "outputs": [
    {
     "data": {
      "image/png": "[encoded data removed]",
      "text/plain": [
       "<Figure size 504x360 with 1 Axes>"
      ]
     },
     "execution_count": 5,
     "metadata": {},
     "output_type": "execute_result"
    }
   ],
   "source": [
    "plot_histogram(results[1])"
   ]
  },
  {
   "cell_type": "code",
   "execution_count": 6,
   "metadata": {},
   "outputs": [
    {
     "data": {
      "image/png": "[encoded data removed]",
      "text/plain": [
       "<Figure size 504x360 with 1 Axes>"
      ]
     },
     "execution_count": 6,
     "metadata": {},
     "output_type": "execute_result"
    }
   ],
   "source": [
    "plot_histogram(results[2])"
   ]
  },
  {
   "cell_type": "code",
   "execution_count": 7,
   "metadata": {},
   "outputs": [
    {
     "data": {
      "image/png": "[encoded data removed]",
      "text/plain": [
       "<Figure size 504x360 with 1 Axes>"
      ]
     },
     "execution_count": 7,
     "metadata": {},
     "output_type": "execute_result"
    }
   ],
   "source": [
    "plot_histogram(results[3])"
   ]
  },
  {
   "cell_type": "markdown",
   "metadata": {
    "slideshow": {
     "slide_type": "-"
    }
   },
   "source": [
    "pi/2 pööre ümber x-telje näidis\n",
    "\n",
    "Esimene circuit:\n",
    "![Joonis1](joonis2.png)\n",
    "\n",
    "Teine circuit:\n",
    "![Joonis2](joonis1.png)\n",
    "\n",
    "Kolmas circuit:\n",
    "![Joonis3](joonis3.png)"
   ]
  }
 ],
 "metadata": {
  "kernelspec": {
   "display_name": "quantum",
   "language": "python",
   "name": "quantum"
  },
  "language_info": {
   "codemirror_mode": {
    "name": "ipython",
    "version": 3
   },
   "file_extension": ".py",
   "mimetype": "text/x-python",
   "name": "python",
   "nbconvert_exporter": "python",
   "pygments_lexer": "ipython3",
   "version": "3.8.1"
  }
 },
 "nbformat": 4,
 "nbformat_minor": 4
}
